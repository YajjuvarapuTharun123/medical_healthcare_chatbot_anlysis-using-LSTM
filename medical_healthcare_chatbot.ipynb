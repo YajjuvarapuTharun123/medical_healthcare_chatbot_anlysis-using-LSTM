{
 "cells": [
  {
   "cell_type": "code",
   "execution_count": 1,
   "id": "dd22ca2f-f4ad-4919-95e3-3141ea6c6d33",
   "metadata": {},
   "outputs": [],
   "source": [
    "import pandas as pd\n",
    "import numpy as np\n",
    "import tensorflow as tf\n",
    "import matplotlib.pyplot as plt\n",
    "from tensorflow.keras.preprocessing.text import Tokenizer\n",
    "from tensorflow.keras.preprocessing.sequence import pad_sequences\n",
    "from sklearn.preprocessing import LabelEncoder\n",
    "import tensorflow\n",
    "from tensorflow import keras\n",
    "from tensorflow.keras.models import Sequential\n",
    "from tensorflow.keras.layers import Input, Embedding, LSTM, LayerNormalization, Dense, Dropout\n",
    "from tensorflow.keras.utils import plot_model"
   ]
  },
  {
   "cell_type": "code",
   "execution_count": 5,
   "id": "938f4963-e426-467c-8d1f-91c0f6a38b86",
   "metadata": {},
   "outputs": [
    {
     "data": {
      "text/html": [
       "<div>\n",
       "<style scoped>\n",
       "    .dataframe tbody tr th:only-of-type {\n",
       "        vertical-align: middle;\n",
       "    }\n",
       "\n",
       "    .dataframe tbody tr th {\n",
       "        vertical-align: top;\n",
       "    }\n",
       "\n",
       "    .dataframe thead th {\n",
       "        text-align: right;\n",
       "    }\n",
       "</style>\n",
       "<table border=\"1\" class=\"dataframe\">\n",
       "  <thead>\n",
       "    <tr style=\"text-align: right;\">\n",
       "      <th></th>\n",
       "      <th>intent</th>\n",
       "      <th>text</th>\n",
       "      <th>responses</th>\n",
       "    </tr>\n",
       "  </thead>\n",
       "  <tbody>\n",
       "    <tr>\n",
       "      <th>0</th>\n",
       "      <td>greetings</td>\n",
       "      <td>[hello, hey, hi, good day, greetings, what's u...</td>\n",
       "      <td>[hello, hey!, what can i do for you?]</td>\n",
       "    </tr>\n",
       "    <tr>\n",
       "      <th>1</th>\n",
       "      <td>goodbye</td>\n",
       "      <td>[cya, see you later, goodbye, have a good day,...</td>\n",
       "      <td>[have a nice day, goodbye]</td>\n",
       "    </tr>\n",
       "    <tr>\n",
       "      <th>2</th>\n",
       "      <td>age</td>\n",
       "      <td>[how old, how old are you?, what is your age, ...</td>\n",
       "      <td>[I get reborn after every compilation, hey!, m...</td>\n",
       "    </tr>\n",
       "    <tr>\n",
       "      <th>3</th>\n",
       "      <td>name</td>\n",
       "      <td>[what is your name, what should i call you, wh...</td>\n",
       "      <td>[you can call me Medbot!, i am Medbot!, i am M...</td>\n",
       "    </tr>\n",
       "    <tr>\n",
       "      <th>4</th>\n",
       "      <td>common cold symptoms</td>\n",
       "      <td>[Runny or stuffy nose, Sore throat, Cough, Con...</td>\n",
       "      <td>[It seems that you are suffering from common c...</td>\n",
       "    </tr>\n",
       "  </tbody>\n",
       "</table>\n",
       "</div>"
      ],
      "text/plain": [
       "                 intent                                               text  \\\n",
       "0             greetings  [hello, hey, hi, good day, greetings, what's u...   \n",
       "1               goodbye  [cya, see you later, goodbye, have a good day,...   \n",
       "2                   age  [how old, how old are you?, what is your age, ...   \n",
       "3                  name  [what is your name, what should i call you, wh...   \n",
       "4  common cold symptoms  [Runny or stuffy nose, Sore throat, Cough, Con...   \n",
       "\n",
       "                                           responses  \n",
       "0              [hello, hey!, what can i do for you?]  \n",
       "1                         [have a nice day, goodbye]  \n",
       "2  [I get reborn after every compilation, hey!, m...  \n",
       "3  [you can call me Medbot!, i am Medbot!, i am M...  \n",
       "4  [It seems that you are suffering from common c...  "
      ]
     },
     "execution_count": 5,
     "metadata": {},
     "output_type": "execute_result"
    }
   ],
   "source": [
    "import json\n",
    "\n",
    "with open(r'C:\\Users\\91630\\Desktop\\Intent.json') as f:\n",
    "    data = json.load(f)\n",
    "\n",
    "df = pd.DataFrame(data['intents'])\n",
    "df.head()"
   ]
  },
  {
   "cell_type": "code",
   "execution_count": 7,
   "id": "53b76630-1eec-460e-8937-6440b66d5f54",
   "metadata": {},
   "outputs": [
    {
     "data": {
      "text/html": [
       "<div>\n",
       "<style scoped>\n",
       "    .dataframe tbody tr th:only-of-type {\n",
       "        vertical-align: middle;\n",
       "    }\n",
       "\n",
       "    .dataframe tbody tr th {\n",
       "        vertical-align: top;\n",
       "    }\n",
       "\n",
       "    .dataframe thead th {\n",
       "        text-align: right;\n",
       "    }\n",
       "</style>\n",
       "<table border=\"1\" class=\"dataframe\">\n",
       "  <thead>\n",
       "    <tr style=\"text-align: right;\">\n",
       "      <th></th>\n",
       "      <th>intent</th>\n",
       "      <th>text</th>\n",
       "      <th>responses</th>\n",
       "    </tr>\n",
       "  </thead>\n",
       "  <tbody>\n",
       "    <tr>\n",
       "      <th>0</th>\n",
       "      <td>greetings</td>\n",
       "      <td>hello</td>\n",
       "      <td>[hello, hey!, what can i do for you?]</td>\n",
       "    </tr>\n",
       "    <tr>\n",
       "      <th>1</th>\n",
       "      <td>greetings</td>\n",
       "      <td>hey</td>\n",
       "      <td>[hello, hey!, what can i do for you?]</td>\n",
       "    </tr>\n",
       "    <tr>\n",
       "      <th>2</th>\n",
       "      <td>greetings</td>\n",
       "      <td>hi</td>\n",
       "      <td>[hello, hey!, what can i do for you?]</td>\n",
       "    </tr>\n",
       "    <tr>\n",
       "      <th>3</th>\n",
       "      <td>greetings</td>\n",
       "      <td>good day</td>\n",
       "      <td>[hello, hey!, what can i do for you?]</td>\n",
       "    </tr>\n",
       "    <tr>\n",
       "      <th>4</th>\n",
       "      <td>greetings</td>\n",
       "      <td>greetings</td>\n",
       "      <td>[hello, hey!, what can i do for you?]</td>\n",
       "    </tr>\n",
       "    <tr>\n",
       "      <th>...</th>\n",
       "      <td>...</td>\n",
       "      <td>...</td>\n",
       "      <td>...</td>\n",
       "    </tr>\n",
       "    <tr>\n",
       "      <th>343</th>\n",
       "      <td>mindfulness_meditation</td>\n",
       "      <td>Mindful eating meditation</td>\n",
       "      <td>[Mindfulness meditation involves being fully p...</td>\n",
       "    </tr>\n",
       "    <tr>\n",
       "      <th>344</th>\n",
       "      <td>aging_gracefully</td>\n",
       "      <td>Aging gracefully tips</td>\n",
       "      <td>[Aging gracefully involves staying active, soc...</td>\n",
       "    </tr>\n",
       "    <tr>\n",
       "      <th>345</th>\n",
       "      <td>aging_gracefully</td>\n",
       "      <td>Maintaining mental agility in old age</td>\n",
       "      <td>[Aging gracefully involves staying active, soc...</td>\n",
       "    </tr>\n",
       "    <tr>\n",
       "      <th>346</th>\n",
       "      <td>aging_gracefully</td>\n",
       "      <td>Embracing the aging process</td>\n",
       "      <td>[Aging gracefully involves staying active, soc...</td>\n",
       "    </tr>\n",
       "    <tr>\n",
       "      <th>347</th>\n",
       "      <td>aging_gracefully</td>\n",
       "      <td>Finding purpose and joy in later years</td>\n",
       "      <td>[Aging gracefully involves staying active, soc...</td>\n",
       "    </tr>\n",
       "  </tbody>\n",
       "</table>\n",
       "<p>348 rows × 3 columns</p>\n",
       "</div>"
      ],
      "text/plain": [
       "                     intent                                    text  \\\n",
       "0                 greetings                                   hello   \n",
       "1                 greetings                                     hey   \n",
       "2                 greetings                                      hi   \n",
       "3                 greetings                                good day   \n",
       "4                 greetings                               greetings   \n",
       "..                      ...                                     ...   \n",
       "343  mindfulness_meditation               Mindful eating meditation   \n",
       "344        aging_gracefully                   Aging gracefully tips   \n",
       "345        aging_gracefully   Maintaining mental agility in old age   \n",
       "346        aging_gracefully             Embracing the aging process   \n",
       "347        aging_gracefully  Finding purpose and joy in later years   \n",
       "\n",
       "                                             responses  \n",
       "0                [hello, hey!, what can i do for you?]  \n",
       "1                [hello, hey!, what can i do for you?]  \n",
       "2                [hello, hey!, what can i do for you?]  \n",
       "3                [hello, hey!, what can i do for you?]  \n",
       "4                [hello, hey!, what can i do for you?]  \n",
       "..                                                 ...  \n",
       "343  [Mindfulness meditation involves being fully p...  \n",
       "344  [Aging gracefully involves staying active, soc...  \n",
       "345  [Aging gracefully involves staying active, soc...  \n",
       "346  [Aging gracefully involves staying active, soc...  \n",
       "347  [Aging gracefully involves staying active, soc...  \n",
       "\n",
       "[348 rows x 3 columns]"
      ]
     },
     "execution_count": 7,
     "metadata": {},
     "output_type": "execute_result"
    }
   ],
   "source": [
    "dic = {\"intent\":[],\"text\":[], \"responses\":[]}\n",
    "for i in range (len(df)):\n",
    "    ptrns = df[df.index==i]['text'].values[0]\n",
    "    rspns = df[df.index==i]['responses'].values[0]\n",
    "    tag = df[df.index==i]['intent'].values[0]\n",
    "    for j in range(len(ptrns)):\n",
    "        dic['intent'].append(tag)\n",
    "        dic['text'].append(ptrns[j])\n",
    "        dic['responses'].append(rspns)\n",
    "df = pd.DataFrame.from_dict(dic)\n",
    "df"
   ]
  },
  {
   "cell_type": "code",
   "execution_count": 9,
   "id": "d084aeba-b094-48b4-9819-499874fbf9a6",
   "metadata": {},
   "outputs": [
    {
     "data": {
      "text/plain": [
       "array(['greetings', 'goodbye', 'age', 'name', 'common cold symptoms',\n",
       "       'fever symptoms', 'Diabetes symptoms', 'Depression symptoms',\n",
       "       'Asthma symptoms', 'common cold prevention', 'fever prevention',\n",
       "       'diabetes prevention', 'depression prevention',\n",
       "       'asthma prevention', 'Consultation', 'exercise_recommendation',\n",
       "       'nutrition_advice', 'sleep_health', 'holistic_health',\n",
       "       'travel_health', 'first_aid', 'aging_health', 'sexual_health',\n",
       "       'home_remedies', 'stress_management', 'allergies', 'pregnancy',\n",
       "       'child_health', 'elderly_care', 'mental_health_support',\n",
       "       'rehabilitation', 'substance_abuse', 'chronic_conditions',\n",
       "       'dental_care', 'symptoms', 'emergency', 'medication',\n",
       "       'appointment', 'insurance', 'mental_health', 'diet_nutrition',\n",
       "       'exercise', 'vaccination', 'insurance_claim', 'self_care_tips',\n",
       "       'nutrition_labels', 'sleep_disorders', 'immune_system',\n",
       "       'exercise_injuries', 'weight_management', 'digital_health',\n",
       "       'menstrual_health', 'organ_donation', 'caregiver_support',\n",
       "       'reproductive_health', 'addiction_recovery', 'caregiving_tips',\n",
       "       'cancer_support', 'nutrition_for_athletes', 'youth_health',\n",
       "       'disease_prevention', 'vision_care', 'skin_care',\n",
       "       'elderly_nutrition', 'teen_nutrition', 'cognitive_health',\n",
       "       'dental_health', 'heart_health', 'physical_therapy',\n",
       "       'nutrition_supplements', 'mindful_eating', 'gut_health',\n",
       "       'women_health', 'nutrition_myths', 'lifestyle_changes',\n",
       "       'child_nutrition', 'mind_body_connection', 'fitness_motivation',\n",
       "       'mindfulness_meditation', 'aging_gracefully'], dtype=object)"
      ]
     },
     "execution_count": 9,
     "metadata": {},
     "output_type": "execute_result"
    }
   ],
   "source": [
    "df['intent'].unique()"
   ]
  },
  {
   "cell_type": "code",
   "execution_count": 16,
   "id": "7d9f9522-69bb-45e0-9a12-77b36885d29b",
   "metadata": {},
   "outputs": [
    {
     "data": {
      "text/plain": [
       "{'num_words': None,\n",
       " 'filters': '!\"#$%&()*+,-./:;<=>?@[\\\\]^_`{|}~\\t\\n',\n",
       " 'lower': True,\n",
       " 'split': ' ',\n",
       " 'char_level': False,\n",
       " 'oov_token': None,\n",
       " 'document_count': 348,\n",
       " 'word_counts': '{\"hello\": 1, \"hey\": 1, \"hi\": 1, \"good\": 2, \"day\": 2, \"greetings\": 1, \"what\\'s\": 3, \"up\": 2, \"how\": 17, \"is\": 6, \"it\": 1, \"going\": 1, \"cya\": 1, \"see\": 2, \"you\": 8, \"later\": 2, \"goodbye\": 1, \"have\": 3, \"a\": 20, \"bye\": 1, \"cao\": 1, \"ya\": 1, \"old\": 5, \"are\": 4, \"what\": 17, \"your\": 4, \"age\": 4, \"name\": 3, \"should\": 8, \"i\": 31, \"call\": 2, \"who\": 2, \"can\": 16, \"tell\": 6, \"me\": 12, \"runny\": 1, \"or\": 9, \"stuffy\": 1, \"nose\": 1, \"sore\": 2, \"throat\": 2, \"cough\": 1, \"congestion\": 1, \"slight\": 1, \"body\": 7, \"aches\": 2, \"mild\": 1, \"headache\": 2, \"sneezing\": 1, \"low\": 2, \"grade\": 1, \"fever\": 5, \"generally\": 1, \"feeling\": 1, \"unwell\": 1, \"malaise\": 1, \"sweating\": 1, \"chills\": 1, \"and\": 16, \"shivering\": 1, \"muscle\": 2, \"loss\": 4, \"of\": 19, \"appetite\": 2, \"irritability\": 1, \"dehydration\": 1, \"general\": 1, \"weakness\": 1, \"increased\": 3, \"hunger\": 2, \"thirst\": 1, \"weight\": 6, \"frequent\": 1, \"urination\": 1, \"blurry\": 1, \"vision\": 1, \"extreme\": 1, \"fatigue\": 3, \"hopeless\": 1, \"outlook\": 1, \"lost\": 1, \"interest\": 1, \"sleep\": 7, \"problem\": 1, \"anxiety\": 2, \"change\": 1, \"in\": 12, \"looking\": 1, \"at\": 2, \"death\": 1, \"coughing\": 1, \"tightness\": 1, \"the\": 12, \"chest\": 1, \"shortness\": 1, \"breath\": 1, \"difficulty\": 1, \"talking\": 1, \"panic\": 1, \"medicines\": 5, \"buy\": 5, \"to\": 16, \"help\": 7, \"with\": 24, \"my\": 6, \"common\": 12, \"cold\": 4, \"some\": 6, \"prevention\": 12, \"method\": 5, \"from\": 16, \"eat\": 6, \"drink\": 5, \"if\": 5, \"am\": 5, \"suffering\": 5, \"keep\": 5, \"getting\": 6, \"flu\": 1, \"diabetes\": 5, \"depression\": 6, \"asthma\": 4, \"contact\": 2, \"for\": 51, \"consultation\": 4, \"there\": 2, \"any\": 2, \"doctor\": 5, \"available\": 2, \"give\": 1, \"suggestions\": 1, \"consultations\": 1, \"set\": 1, \"meeting\": 1, \"best\": 2, \"exercises\": 10, \"improve\": 2, \"flexibility\": 1, \"strength\": 1, \"training\": 1, \"routines\": 3, \"cardio\": 1, \"workouts\": 1, \"healthy\": 19, \"snacks\": 2, \"ideas\": 4, \"calorie\": 1, \"meal\": 2, \"recipes\": 1, \"vegan\": 1, \"diet\": 6, \"tips\": 12, \"gluten\": 1, \"free\": 1, \"eating\": 9, \"quality\": 2, \"dealing\": 10, \"insomnia\": 2, \"ideal\": 1, \"duration\": 1, \"creating\": 2, \"bedtime\": 1, \"routine\": 1, \"benefits\": 6, \"meditation\": 5, \"practicing\": 3, \"mindfulness\": 3, \"natural\": 2, \"remedies\": 5, \"ailments\": 1, \"holistic\": 1, \"wellness\": 1, \"practices\": 3, \"travel\": 3, \"vaccinations\": 2, \"jet\": 1, \"lag\": 1, \"staying\": 3, \"while\": 1, \"traveling\": 1, \"insurance\": 7, \"advice\": 2, \"basic\": 1, \"first\": 1, \"aid\": 1, \"techniques\": 5, \"minor\": 1, \"burns\": 1, \"cuts\": 1, \"cpr\": 1, \"instructions\": 1, \"recognizing\": 1, \"signs\": 2, \"stroke\": 1, \"heart\": 5, \"attack\": 1, \"aging\": 4, \"managing\": 9, \"arthritis\": 2, \"cognitive\": 3, \"seniors\": 3, \"preventing\": 6, \"falls\": 1, \"elderly\": 6, \"safe\": 1, \"sex\": 1, \"std\": 1, \"importance\": 3, \"regular\": 3, \"check\": 2, \"ups\": 2, \"handling\": 1, \"sexual\": 3, \"health\": 22, \"concerns\": 2, \"home\": 2, \"allergies\": 3, \"diy\": 1, \"face\": 1, \"masks\": 1, \"skin\": 3, \"care\": 7, \"herbal\": 1, \"teas\": 1, \"relaxation\": 3, \"stress\": 6, \"relief\": 1, \"mind\": 2, \"methods\": 2, \"coping\": 4, \"mechanisms\": 1, \"workplace\": 1, \"management\": 3, \"allergens\": 1, \"symptoms\": 6, \"manage\": 1, \"allergy\": 1, \"testing\": 1, \"pregnancy\": 2, \"prenatal\": 1, \"during\": 1, \"labor\": 1, \"delivery\": 1, \"childhood\": 3, \"kids\": 2, \"illnesses\": 1, \"parenting\": 1, \"services\": 1, \"chronic\": 1, \"conditions\": 2, \"fall\": 1, \"caring\": 3, \"parents\": 1, \"online\": 2, \"therapy\": 3, \"options\": 5, \"mental\": 3, \"hotlines\": 1, \"self\": 3, \"post\": 2, \"surgery\": 2, \"rehabilitation\": 3, \"recovery\": 3, \"physical\": 5, \"choosing\": 6, \"center\": 1, \"screenings\": 3, \"birth\": 1, \"control\": 1, \"sti\": 1, \"counseling\": 2, \"substance\": 4, \"abuse\": 4, \"treatment\": 2, \"support\": 5, \"groups\": 2, \"addiction\": 3, \"cancer\": 4, \"treatments\": 1, \"living\": 1, \"disease\": 1, \"dental\": 4, \"hygiene\": 3, \"problems\": 2, \"dentist\": 1, \"condition\": 4, \"feel\": 2, \"symptom\": 1, \"do\": 1, \"need\": 2, \"urgent\": 1, \"emergency\": 2, \"assistance\": 1, \"an\": 3, \"ambulance\": 1, \"i\\'m\": 2, \"having\": 1, \"medical\": 1, \"medication\": 5, \"used\": 1, \"dosage\": 1, \"side\": 2, \"effects\": 2, \"take\": 1, \"another\": 1, \"book\": 2, \"appointment\": 2, \"schedule\": 2, \"doctor\\'s\": 1, \"availability\": 1, \"doctors\": 1, \"does\": 2, \"work\": 1, \"cover\": 1, \"find\": 1, \"plans\": 1, \"policy\": 1, \"details\": 1, \"anxious\": 1, \"stressed\": 1, \"out\": 1, \"someone\": 1, \"talk\": 1, \"balanced\": 3, \"nutrition\": 6, \"specific\": 3, \"often\": 1, \"exercise\": 6, \"fitness\": 4, \"vaccination\": 1, \"where\": 1, \"get\": 1, \"vaccinated\": 1, \"vaccine\": 1, \"information\": 1, \"vaccines\": 1, \"adults\": 2, \"children\": 2, \"file\": 1, \"claim\": 4, \"process\": 3, \"required\": 1, \"documents\": 1, \"status\": 1, \"read\": 1, \"labels\": 2, \"understanding\": 2, \"food\": 3, \"interpreting\": 1, \"ingredient\": 1, \"lists\": 1, \"choices\": 1, \"disorders\": 1, \"apnea\": 1, \"improving\": 1, \"boosting\": 2, \"immune\": 2, \"system\": 2, \"foods\": 4, \"that\": 1, \"strengthen\": 1, \"immunity\": 2, \"enough\": 1, \"related\": 1, \"injuries\": 3, \"treating\": 1, \"strains\": 1, \"joint\": 1, \"pain\": 1, \"recovering\": 1, \"sports\": 1, \"strategies\": 2, \"maintaining\": 4, \"mass\": 1, \"index\": 1, \"bmi\": 1, \"gain\": 1, \"causes\": 1, \"using\": 1, \"apps\": 1, \"wearable\": 1, \"devices\": 2, \"virtual\": 1, \"visits\": 1, \"programs\": 2, \"menstrual\": 4, \"cramps\": 1, \"irregular\": 1, \"cycles\": 1, \"pms\": 1, \"organ\": 4, \"donation\": 2, \"become\": 1, \"donor\": 1, \"myths\": 3, \"about\": 2, \"transplant\": 1, \"caregivers\": 3, \"caregiver\": 1, \"respite\": 1, \"legal\": 1, \"financial\": 1, \"resources\": 1, \"fertility\": 1, \"awareness\": 1, \"contraception\": 1, \"reproductive\": 1, \"infertility\": 1, \"12\": 1, \"step\": 1, \"therapies\": 1, \"relapse\": 1, \"loved\": 1, \"ones\": 1, \"dementia\": 1, \"effective\": 1, \"communication\": 1, \"assistive\": 1, \"challenging\": 1, \"behaviors\": 1, \"patients\": 1, \"chemotherapy\": 1, \"athletes\": 2, \"pre\": 1, \"workout\": 3, \"meals\": 1, \"hydration\": 1, \"teenage\": 1, \"issues\": 3, \"habits\": 3, \"adolescents\": 2, \"teen\": 1, \"youth\": 1, \"diseases\": 2, \"immunization\": 1, \"schedules\": 1, \"spread\": 1, \"infectious\": 1, \"precautions\": 2, \"eye\": 3, \"right\": 4, \"glasses\": 1, \"lenses\": 1, \"safety\": 1, \"acne\": 1, \"sun\": 1, \"protection\": 1, \"friendly\": 1, \"dietary\": 2, \"supplements\": 3, \"older\": 1, \"teens\": 1, \"image\": 1, \"encouraging\": 1, \"positive\": 2, \"brain\": 2, \"memory\": 1, \"improvement\": 1, \"decline\": 1, \"implants\": 1, \"oral\": 1, \"braces\": 1, \"wearers\": 1, \"tooth\": 1, \"sensitivity\": 1, \"toothpaste\": 1, \"diets\": 1, \"blood\": 1, \"pressure\": 1, \"after\": 1, \"therapist\": 1, \"vitamins\": 1, \"minerals\": 1, \"needs\": 1, \"supplement\": 1, \"interactions\": 1, \"medications\": 1, \"mindful\": 4, \"listening\": 1, \"cues\": 1, \"fullness\": 1, \"avoiding\": 1, \"emotional\": 2, \"gut\": 2, \"probiotics\": 1, \"prebiotics\": 1, \"digestive\": 1, \"women\\'s\": 1, \"irregularities\": 1, \"postmenopausal\": 1, \"breast\": 1, \"exams\": 1, \"debunked\": 1, \"misconceptions\": 1, \"facts\": 1, \"truths\": 1, \"making\": 1, \"sustainable\": 1, \"lifestyle\": 1, \"changes\": 1, \"setting\": 1, \"realistic\": 1, \"goals\": 1, \"motivated\": 2, \"building\": 1, \"picky\": 1, \"eaters\": 1, \"school\": 1, \"lunch\": 1, \"obesity\": 1, \"connection\": 1, \"yoga\": 1, \"thinking\": 1, \"its\": 1, \"impact\": 1, \"on\": 1, \"well\": 1, \"being\": 1, \"overcoming\": 1, \"plateaus\": 1, \"finding\": 2, \"joy\": 2, \"activity\": 1, \"supportive\": 1, \"environment\": 1, \"introduction\": 1, \"breathing\": 1, \"scan\": 1, \"gracefully\": 1, \"agility\": 1, \"embracing\": 1, \"purpose\": 1, \"years\": 1}',\n",
       " 'word_docs': '{\"hello\": 1, \"hey\": 1, \"hi\": 1, \"day\": 2, \"good\": 2, \"greetings\": 1, \"what\\'s\": 3, \"up\": 2, \"how\": 17, \"it\": 1, \"is\": 6, \"going\": 1, \"cya\": 1, \"see\": 2, \"later\": 2, \"you\": 8, \"goodbye\": 1, \"a\": 19, \"have\": 3, \"bye\": 1, \"cao\": 1, \"ya\": 1, \"old\": 5, \"are\": 4, \"what\": 17, \"age\": 4, \"your\": 4, \"name\": 3, \"should\": 8, \"call\": 2, \"i\": 26, \"who\": 2, \"can\": 16, \"me\": 12, \"tell\": 6, \"runny\": 1, \"stuffy\": 1, \"or\": 9, \"nose\": 1, \"sore\": 2, \"throat\": 2, \"cough\": 1, \"congestion\": 1, \"aches\": 2, \"slight\": 1, \"mild\": 1, \"headache\": 2, \"body\": 7, \"sneezing\": 1, \"fever\": 5, \"grade\": 1, \"low\": 2, \"generally\": 1, \"feeling\": 1, \"unwell\": 1, \"malaise\": 1, \"sweating\": 1, \"chills\": 1, \"and\": 16, \"shivering\": 1, \"muscle\": 2, \"loss\": 4, \"of\": 19, \"appetite\": 2, \"irritability\": 1, \"dehydration\": 1, \"general\": 1, \"weakness\": 1, \"increased\": 3, \"hunger\": 2, \"thirst\": 1, \"weight\": 6, \"frequent\": 1, \"urination\": 1, \"vision\": 1, \"blurry\": 1, \"extreme\": 1, \"fatigue\": 3, \"outlook\": 1, \"hopeless\": 1, \"interest\": 1, \"lost\": 1, \"problem\": 1, \"sleep\": 7, \"anxiety\": 2, \"in\": 12, \"change\": 1, \"looking\": 1, \"at\": 2, \"death\": 1, \"coughing\": 1, \"tightness\": 1, \"the\": 12, \"chest\": 1, \"breath\": 1, \"shortness\": 1, \"difficulty\": 1, \"talking\": 1, \"panic\": 1, \"cold\": 4, \"to\": 15, \"with\": 24, \"medicines\": 5, \"common\": 12, \"help\": 7, \"my\": 6, \"buy\": 5, \"prevention\": 12, \"from\": 16, \"method\": 5, \"some\": 6, \"am\": 5, \"suffering\": 5, \"drink\": 5, \"eat\": 6, \"if\": 5, \"keep\": 5, \"flu\": 1, \"getting\": 6, \"diabetes\": 5, \"depression\": 6, \"asthma\": 4, \"consultation\": 4, \"contact\": 2, \"for\": 51, \"any\": 2, \"doctor\": 5, \"there\": 2, \"available\": 2, \"suggestions\": 1, \"give\": 1, \"consultations\": 1, \"set\": 1, \"meeting\": 1, \"best\": 2, \"exercises\": 10, \"flexibility\": 1, \"improve\": 2, \"strength\": 1, \"routines\": 3, \"training\": 1, \"workouts\": 1, \"cardio\": 1, \"snacks\": 2, \"ideas\": 4, \"healthy\": 19, \"meal\": 2, \"recipes\": 1, \"calorie\": 1, \"diet\": 6, \"vegan\": 1, \"tips\": 12, \"eating\": 9, \"gluten\": 1, \"free\": 1, \"quality\": 2, \"insomnia\": 2, \"dealing\": 10, \"duration\": 1, \"ideal\": 1, \"creating\": 2, \"bedtime\": 1, \"routine\": 1, \"meditation\": 5, \"benefits\": 6, \"practicing\": 3, \"mindfulness\": 3, \"ailments\": 1, \"natural\": 2, \"remedies\": 5, \"practices\": 3, \"holistic\": 1, \"wellness\": 1, \"travel\": 3, \"vaccinations\": 2, \"lag\": 1, \"jet\": 1, \"while\": 1, \"traveling\": 1, \"staying\": 3, \"insurance\": 7, \"advice\": 2, \"aid\": 1, \"techniques\": 5, \"first\": 1, \"basic\": 1, \"cuts\": 1, \"burns\": 1, \"minor\": 1, \"instructions\": 1, \"cpr\": 1, \"stroke\": 1, \"signs\": 2, \"heart\": 5, \"recognizing\": 1, \"attack\": 1, \"aging\": 4, \"managing\": 9, \"arthritis\": 2, \"seniors\": 3, \"cognitive\": 3, \"elderly\": 6, \"preventing\": 6, \"falls\": 1, \"safe\": 1, \"sex\": 1, \"std\": 1, \"ups\": 2, \"regular\": 3, \"check\": 2, \"importance\": 3, \"handling\": 1, \"concerns\": 2, \"health\": 22, \"sexual\": 3, \"home\": 2, \"allergies\": 3, \"face\": 1, \"skin\": 3, \"masks\": 1, \"care\": 7, \"diy\": 1, \"herbal\": 1, \"teas\": 1, \"relaxation\": 3, \"stress\": 6, \"relief\": 1, \"mind\": 2, \"methods\": 2, \"mechanisms\": 1, \"coping\": 4, \"workplace\": 1, \"management\": 3, \"allergens\": 1, \"symptoms\": 6, \"manage\": 1, \"allergy\": 1, \"testing\": 1, \"pregnancy\": 2, \"prenatal\": 1, \"during\": 1, \"labor\": 1, \"delivery\": 1, \"childhood\": 3, \"kids\": 2, \"illnesses\": 1, \"parenting\": 1, \"services\": 1, \"chronic\": 1, \"conditions\": 2, \"fall\": 1, \"caring\": 3, \"parents\": 1, \"options\": 5, \"online\": 2, \"therapy\": 3, \"mental\": 3, \"hotlines\": 1, \"self\": 3, \"rehabilitation\": 3, \"post\": 2, \"surgery\": 2, \"recovery\": 3, \"physical\": 5, \"center\": 1, \"choosing\": 6, \"screenings\": 3, \"control\": 1, \"birth\": 1, \"sti\": 1, \"counseling\": 2, \"abuse\": 4, \"treatment\": 2, \"substance\": 4, \"support\": 5, \"addiction\": 3, \"groups\": 2, \"cancer\": 4, \"treatments\": 1, \"living\": 1, \"disease\": 1, \"hygiene\": 3, \"dental\": 4, \"problems\": 2, \"dentist\": 1, \"condition\": 4, \"feel\": 2, \"symptom\": 1, \"do\": 1, \"urgent\": 1, \"need\": 2, \"assistance\": 1, \"emergency\": 2, \"ambulance\": 1, \"an\": 3, \"i\\'m\": 2, \"having\": 1, \"medical\": 1, \"medication\": 4, \"used\": 1, \"dosage\": 1, \"effects\": 2, \"side\": 2, \"take\": 1, \"another\": 1, \"book\": 2, \"appointment\": 2, \"schedule\": 2, \"doctor\\'s\": 1, \"doctors\": 1, \"availability\": 1, \"does\": 2, \"work\": 1, \"cover\": 1, \"plans\": 1, \"find\": 1, \"policy\": 1, \"details\": 1, \"anxious\": 1, \"stressed\": 1, \"out\": 1, \"someone\": 1, \"talk\": 1, \"balanced\": 3, \"nutrition\": 6, \"specific\": 3, \"often\": 1, \"exercise\": 6, \"fitness\": 4, \"vaccination\": 1, \"vaccinated\": 1, \"get\": 1, \"where\": 1, \"vaccine\": 1, \"information\": 1, \"children\": 2, \"vaccines\": 1, \"adults\": 2, \"file\": 1, \"claim\": 4, \"process\": 3, \"documents\": 1, \"required\": 1, \"status\": 1, \"labels\": 2, \"read\": 1, \"food\": 3, \"understanding\": 2, \"interpreting\": 1, \"lists\": 1, \"ingredient\": 1, \"choices\": 1, \"disorders\": 1, \"apnea\": 1, \"improving\": 1, \"boosting\": 2, \"immune\": 2, \"system\": 2, \"strengthen\": 1, \"immunity\": 2, \"foods\": 4, \"that\": 1, \"enough\": 1, \"related\": 1, \"injuries\": 3, \"strains\": 1, \"treating\": 1, \"pain\": 1, \"joint\": 1, \"sports\": 1, \"recovering\": 1, \"strategies\": 2, \"maintaining\": 4, \"index\": 1, \"mass\": 1, \"bmi\": 1, \"causes\": 1, \"gain\": 1, \"using\": 1, \"apps\": 1, \"devices\": 2, \"wearable\": 1, \"virtual\": 1, \"visits\": 1, \"programs\": 2, \"cramps\": 1, \"menstrual\": 4, \"cycles\": 1, \"irregular\": 1, \"pms\": 1, \"donation\": 2, \"organ\": 4, \"become\": 1, \"donor\": 1, \"myths\": 3, \"about\": 2, \"transplant\": 1, \"caregivers\": 3, \"caregiver\": 1, \"respite\": 1, \"financial\": 1, \"resources\": 1, \"legal\": 1, \"awareness\": 1, \"fertility\": 1, \"contraception\": 1, \"reproductive\": 1, \"infertility\": 1, \"12\": 1, \"step\": 1, \"therapies\": 1, \"relapse\": 1, \"dementia\": 1, \"loved\": 1, \"ones\": 1, \"effective\": 1, \"communication\": 1, \"assistive\": 1, \"behaviors\": 1, \"challenging\": 1, \"patients\": 1, \"chemotherapy\": 1, \"athletes\": 2, \"pre\": 1, \"workout\": 3, \"meals\": 1, \"hydration\": 1, \"issues\": 3, \"teenage\": 1, \"habits\": 3, \"adolescents\": 2, \"teen\": 1, \"youth\": 1, \"diseases\": 2, \"immunization\": 1, \"schedules\": 1, \"spread\": 1, \"infectious\": 1, \"precautions\": 2, \"eye\": 3, \"lenses\": 1, \"glasses\": 1, \"right\": 4, \"safety\": 1, \"acne\": 1, \"protection\": 1, \"sun\": 1, \"friendly\": 1, \"older\": 1, \"dietary\": 2, \"supplements\": 3, \"teens\": 1, \"image\": 1, \"positive\": 2, \"encouraging\": 1, \"brain\": 2, \"improvement\": 1, \"memory\": 1, \"decline\": 1, \"implants\": 1, \"wearers\": 1, \"oral\": 1, \"braces\": 1, \"tooth\": 1, \"sensitivity\": 1, \"toothpaste\": 1, \"diets\": 1, \"pressure\": 1, \"blood\": 1, \"after\": 1, \"therapist\": 1, \"needs\": 1, \"minerals\": 1, \"vitamins\": 1, \"interactions\": 1, \"supplement\": 1, \"medications\": 1, \"mindful\": 4, \"cues\": 1, \"fullness\": 1, \"listening\": 1, \"emotional\": 2, \"avoiding\": 1, \"gut\": 2, \"probiotics\": 1, \"prebiotics\": 1, \"digestive\": 1, \"women\\'s\": 1, \"irregularities\": 1, \"postmenopausal\": 1, \"exams\": 1, \"breast\": 1, \"debunked\": 1, \"misconceptions\": 1, \"facts\": 1, \"truths\": 1, \"making\": 1, \"lifestyle\": 1, \"changes\": 1, \"sustainable\": 1, \"setting\": 1, \"realistic\": 1, \"goals\": 1, \"motivated\": 2, \"building\": 1, \"eaters\": 1, \"picky\": 1, \"school\": 1, \"lunch\": 1, \"obesity\": 1, \"connection\": 1, \"yoga\": 1, \"on\": 1, \"thinking\": 1, \"well\": 1, \"being\": 1, \"its\": 1, \"impact\": 1, \"overcoming\": 1, \"plateaus\": 1, \"joy\": 2, \"finding\": 2, \"activity\": 1, \"supportive\": 1, \"environment\": 1, \"introduction\": 1, \"breathing\": 1, \"scan\": 1, \"gracefully\": 1, \"agility\": 1, \"embracing\": 1, \"years\": 1, \"purpose\": 1}',\n",
       " 'index_docs': '{\"219\": 1, \"220\": 1, \"221\": 1, \"136\": 2, \"135\": 2, \"222\": 1, \"92\": 3, \"137\": 2, \"8\": 17, \"223\": 1, \"32\": 6, \"224\": 1, \"225\": 1, \"138\": 2, \"139\": 2, \"25\": 8, \"226\": 1, \"5\": 19, \"93\": 3, \"227\": 1, \"228\": 1, \"229\": 1, \"49\": 5, \"69\": 4, \"9\": 17, \"71\": 4, \"70\": 4, \"94\": 3, \"26\": 8, \"140\": 2, \"2\": 26, \"141\": 2, \"10\": 16, \"14\": 12, \"33\": 6, \"230\": 1, \"231\": 1, \"22\": 9, \"232\": 1, \"142\": 2, \"143\": 2, \"233\": 1, \"234\": 1, \"144\": 2, \"235\": 1, \"236\": 1, \"145\": 2, \"27\": 7, \"237\": 1, \"50\": 5, \"238\": 1, \"146\": 2, \"239\": 1, \"240\": 1, \"241\": 1, \"242\": 1, \"243\": 1, \"244\": 1, \"11\": 16, \"245\": 1, \"147\": 2, \"72\": 4, \"6\": 19, \"148\": 2, \"246\": 1, \"247\": 1, \"248\": 1, \"249\": 1, \"95\": 3, \"149\": 2, \"250\": 1, \"34\": 6, \"251\": 1, \"252\": 1, \"254\": 1, \"253\": 1, \"255\": 1, \"96\": 3, \"257\": 1, \"256\": 1, \"259\": 1, \"258\": 1, \"260\": 1, \"28\": 7, \"150\": 2, \"15\": 12, \"261\": 1, \"262\": 1, \"151\": 2, \"263\": 1, \"264\": 1, \"265\": 1, \"16\": 12, \"266\": 1, \"268\": 1, \"267\": 1, \"269\": 1, \"270\": 1, \"271\": 1, \"73\": 4, \"12\": 15, \"3\": 24, \"51\": 5, \"17\": 12, \"29\": 7, \"35\": 6, \"52\": 5, \"18\": 12, \"13\": 16, \"53\": 5, \"36\": 6, \"56\": 5, \"57\": 5, \"54\": 5, \"37\": 6, \"55\": 5, \"58\": 5, \"272\": 1, \"38\": 6, \"59\": 5, \"39\": 6, \"74\": 4, \"75\": 4, \"152\": 2, \"1\": 51, \"154\": 2, \"60\": 5, \"153\": 2, \"155\": 2, \"274\": 1, \"273\": 1, \"275\": 1, \"276\": 1, \"277\": 1, \"156\": 2, \"20\": 10, \"278\": 1, \"157\": 2, \"279\": 1, \"97\": 3, \"280\": 1, \"282\": 1, \"281\": 1, \"158\": 2, \"76\": 4, \"7\": 19, \"159\": 2, \"284\": 1, \"283\": 1, \"40\": 6, \"285\": 1, \"19\": 12, \"23\": 9, \"286\": 1, \"287\": 1, \"160\": 2, \"161\": 2, \"21\": 10, \"289\": 1, \"288\": 1, \"162\": 2, \"290\": 1, \"291\": 1, \"61\": 5, \"41\": 6, \"98\": 3, \"99\": 3, \"292\": 1, \"163\": 2, \"62\": 5, \"100\": 3, \"293\": 1, \"294\": 1, \"101\": 3, \"164\": 2, \"296\": 1, \"295\": 1, \"297\": 1, \"298\": 1, \"102\": 3, \"30\": 7, \"165\": 2, \"301\": 1, \"63\": 5, \"300\": 1, \"299\": 1, \"304\": 1, \"303\": 1, \"302\": 1, \"306\": 1, \"305\": 1, \"308\": 1, \"166\": 2, \"64\": 5, \"307\": 1, \"309\": 1, \"77\": 4, \"24\": 9, \"167\": 2, \"104\": 3, \"103\": 3, \"43\": 6, \"42\": 6, \"310\": 1, \"311\": 1, \"312\": 1, \"313\": 1, \"169\": 2, \"106\": 3, \"168\": 2, \"105\": 3, \"314\": 1, \"170\": 2, \"4\": 22, \"107\": 3, \"171\": 2, \"108\": 3, \"316\": 1, \"109\": 3, \"317\": 1, \"31\": 7, \"315\": 1, \"318\": 1, \"319\": 1, \"110\": 3, \"44\": 6, \"320\": 1, \"172\": 2, \"173\": 2, \"321\": 1, \"78\": 4, \"322\": 1, \"111\": 3, \"323\": 1, \"45\": 6, \"324\": 1, \"325\": 1, \"326\": 1, \"174\": 2, \"327\": 1, \"328\": 1, \"329\": 1, \"330\": 1, \"112\": 3, \"175\": 2, \"331\": 1, \"332\": 1, \"333\": 1, \"334\": 1, \"176\": 2, \"335\": 1, \"113\": 3, \"336\": 1, \"65\": 5, \"177\": 2, \"114\": 3, \"115\": 3, \"337\": 1, \"116\": 3, \"117\": 3, \"178\": 2, \"179\": 2, \"118\": 3, \"66\": 5, \"338\": 1, \"46\": 6, \"119\": 3, \"340\": 1, \"339\": 1, \"341\": 1, \"180\": 2, \"80\": 4, \"181\": 2, \"79\": 4, \"67\": 5, \"120\": 3, \"182\": 2, \"81\": 4, \"342\": 1, \"343\": 1, \"344\": 1, \"121\": 3, \"82\": 4, \"183\": 2, \"345\": 1, \"83\": 4, \"184\": 2, \"346\": 1, \"347\": 1, \"348\": 1, \"185\": 2, \"349\": 1, \"186\": 2, \"350\": 1, \"122\": 3, \"187\": 2, \"351\": 1, \"352\": 1, \"68\": 4, \"353\": 1, \"354\": 1, \"189\": 2, \"188\": 2, \"355\": 1, \"356\": 1, \"190\": 2, \"191\": 2, \"192\": 2, \"357\": 1, \"359\": 1, \"358\": 1, \"193\": 2, \"360\": 1, \"361\": 1, \"363\": 1, \"362\": 1, \"364\": 1, \"365\": 1, \"366\": 1, \"367\": 1, \"368\": 1, \"369\": 1, \"370\": 1, \"123\": 3, \"47\": 6, \"124\": 3, \"371\": 1, \"48\": 6, \"84\": 4, \"372\": 1, \"375\": 1, \"374\": 1, \"373\": 1, \"376\": 1, \"377\": 1, \"195\": 2, \"378\": 1, \"194\": 2, \"379\": 1, \"85\": 4, \"125\": 3, \"381\": 1, \"380\": 1, \"382\": 1, \"196\": 2, \"383\": 1, \"126\": 3, \"197\": 2, \"384\": 1, \"386\": 1, \"385\": 1, \"387\": 1, \"388\": 1, \"389\": 1, \"390\": 1, \"198\": 2, \"199\": 2, \"200\": 2, \"392\": 1, \"201\": 2, \"86\": 4, \"391\": 1, \"393\": 1, \"394\": 1, \"127\": 3, \"396\": 1, \"395\": 1, \"398\": 1, \"397\": 1, \"400\": 1, \"399\": 1, \"202\": 2, \"87\": 4, \"402\": 1, \"401\": 1, \"403\": 1, \"405\": 1, \"404\": 1, \"406\": 1, \"407\": 1, \"203\": 2, \"408\": 1, \"409\": 1, \"410\": 1, \"204\": 2, \"411\": 1, \"88\": 4, \"413\": 1, \"412\": 1, \"414\": 1, \"205\": 2, \"89\": 4, \"415\": 1, \"416\": 1, \"128\": 3, \"206\": 2, \"417\": 1, \"129\": 3, \"418\": 1, \"419\": 1, \"421\": 1, \"422\": 1, \"420\": 1, \"424\": 1, \"423\": 1, \"425\": 1, \"426\": 1, \"427\": 1, \"428\": 1, \"429\": 1, \"430\": 1, \"431\": 1, \"434\": 1, \"432\": 1, \"433\": 1, \"435\": 1, \"436\": 1, \"437\": 1, \"439\": 1, \"438\": 1, \"440\": 1, \"441\": 1, \"207\": 2, \"442\": 1, \"130\": 3, \"443\": 1, \"444\": 1, \"131\": 3, \"445\": 1, \"132\": 3, \"208\": 2, \"446\": 1, \"447\": 1, \"209\": 2, \"448\": 1, \"449\": 1, \"450\": 1, \"451\": 1, \"210\": 2, \"133\": 3, \"453\": 1, \"452\": 1, \"90\": 4, \"454\": 1, \"455\": 1, \"457\": 1, \"456\": 1, \"458\": 1, \"459\": 1, \"211\": 2, \"134\": 3, \"460\": 1, \"461\": 1, \"212\": 2, \"462\": 1, \"213\": 2, \"464\": 1, \"463\": 1, \"465\": 1, \"466\": 1, \"469\": 1, \"467\": 1, \"468\": 1, \"470\": 1, \"471\": 1, \"472\": 1, \"473\": 1, \"475\": 1, \"474\": 1, \"476\": 1, \"477\": 1, \"480\": 1, \"479\": 1, \"478\": 1, \"482\": 1, \"481\": 1, \"483\": 1, \"91\": 4, \"485\": 1, \"486\": 1, \"484\": 1, \"214\": 2, \"487\": 1, \"215\": 2, \"488\": 1, \"489\": 1, \"490\": 1, \"491\": 1, \"492\": 1, \"493\": 1, \"495\": 1, \"494\": 1, \"496\": 1, \"497\": 1, \"498\": 1, \"499\": 1, \"500\": 1, \"502\": 1, \"503\": 1, \"501\": 1, \"504\": 1, \"505\": 1, \"506\": 1, \"216\": 2, \"507\": 1, \"509\": 1, \"508\": 1, \"510\": 1, \"511\": 1, \"512\": 1, \"513\": 1, \"514\": 1, \"518\": 1, \"515\": 1, \"519\": 1, \"520\": 1, \"516\": 1, \"517\": 1, \"521\": 1, \"522\": 1, \"218\": 2, \"217\": 2, \"523\": 1, \"524\": 1, \"525\": 1, \"526\": 1, \"527\": 1, \"528\": 1, \"529\": 1, \"530\": 1, \"531\": 1, \"533\": 1, \"532\": 1}',\n",
       " 'index_word': '{\"1\": \"for\", \"2\": \"i\", \"3\": \"with\", \"4\": \"health\", \"5\": \"a\", \"6\": \"of\", \"7\": \"healthy\", \"8\": \"how\", \"9\": \"what\", \"10\": \"can\", \"11\": \"and\", \"12\": \"to\", \"13\": \"from\", \"14\": \"me\", \"15\": \"in\", \"16\": \"the\", \"17\": \"common\", \"18\": \"prevention\", \"19\": \"tips\", \"20\": \"exercises\", \"21\": \"dealing\", \"22\": \"or\", \"23\": \"eating\", \"24\": \"managing\", \"25\": \"you\", \"26\": \"should\", \"27\": \"body\", \"28\": \"sleep\", \"29\": \"help\", \"30\": \"insurance\", \"31\": \"care\", \"32\": \"is\", \"33\": \"tell\", \"34\": \"weight\", \"35\": \"my\", \"36\": \"some\", \"37\": \"eat\", \"38\": \"getting\", \"39\": \"depression\", \"40\": \"diet\", \"41\": \"benefits\", \"42\": \"preventing\", \"43\": \"elderly\", \"44\": \"stress\", \"45\": \"symptoms\", \"46\": \"choosing\", \"47\": \"nutrition\", \"48\": \"exercise\", \"49\": \"old\", \"50\": \"fever\", \"51\": \"medicines\", \"52\": \"buy\", \"53\": \"method\", \"54\": \"drink\", \"55\": \"if\", \"56\": \"am\", \"57\": \"suffering\", \"58\": \"keep\", \"59\": \"diabetes\", \"60\": \"doctor\", \"61\": \"meditation\", \"62\": \"remedies\", \"63\": \"techniques\", \"64\": \"heart\", \"65\": \"options\", \"66\": \"physical\", \"67\": \"support\", \"68\": \"medication\", \"69\": \"are\", \"70\": \"your\", \"71\": \"age\", \"72\": \"loss\", \"73\": \"cold\", \"74\": \"asthma\", \"75\": \"consultation\", \"76\": \"ideas\", \"77\": \"aging\", \"78\": \"coping\", \"79\": \"substance\", \"80\": \"abuse\", \"81\": \"cancer\", \"82\": \"dental\", \"83\": \"condition\", \"84\": \"fitness\", \"85\": \"claim\", \"86\": \"foods\", \"87\": \"maintaining\", \"88\": \"menstrual\", \"89\": \"organ\", \"90\": \"right\", \"91\": \"mindful\", \"92\": \"what\\'s\", \"93\": \"have\", \"94\": \"name\", \"95\": \"increased\", \"96\": \"fatigue\", \"97\": \"routines\", \"98\": \"practicing\", \"99\": \"mindfulness\", \"100\": \"practices\", \"101\": \"travel\", \"102\": \"staying\", \"103\": \"cognitive\", \"104\": \"seniors\", \"105\": \"importance\", \"106\": \"regular\", \"107\": \"sexual\", \"108\": \"allergies\", \"109\": \"skin\", \"110\": \"relaxation\", \"111\": \"management\", \"112\": \"childhood\", \"113\": \"caring\", \"114\": \"therapy\", \"115\": \"mental\", \"116\": \"self\", \"117\": \"rehabilitation\", \"118\": \"recovery\", \"119\": \"screenings\", \"120\": \"addiction\", \"121\": \"hygiene\", \"122\": \"an\", \"123\": \"balanced\", \"124\": \"specific\", \"125\": \"process\", \"126\": \"food\", \"127\": \"injuries\", \"128\": \"myths\", \"129\": \"caregivers\", \"130\": \"workout\", \"131\": \"issues\", \"132\": \"habits\", \"133\": \"eye\", \"134\": \"supplements\", \"135\": \"good\", \"136\": \"day\", \"137\": \"up\", \"138\": \"see\", \"139\": \"later\", \"140\": \"call\", \"141\": \"who\", \"142\": \"sore\", \"143\": \"throat\", \"144\": \"aches\", \"145\": \"headache\", \"146\": \"low\", \"147\": \"muscle\", \"148\": \"appetite\", \"149\": \"hunger\", \"150\": \"anxiety\", \"151\": \"at\", \"152\": \"contact\", \"153\": \"there\", \"154\": \"any\", \"155\": \"available\", \"156\": \"best\", \"157\": \"improve\", \"158\": \"snacks\", \"159\": \"meal\", \"160\": \"quality\", \"161\": \"insomnia\", \"162\": \"creating\", \"163\": \"natural\", \"164\": \"vaccinations\", \"165\": \"advice\", \"166\": \"signs\", \"167\": \"arthritis\", \"168\": \"check\", \"169\": \"ups\", \"170\": \"concerns\", \"171\": \"home\", \"172\": \"mind\", \"173\": \"methods\", \"174\": \"pregnancy\", \"175\": \"kids\", \"176\": \"conditions\", \"177\": \"online\", \"178\": \"post\", \"179\": \"surgery\", \"180\": \"counseling\", \"181\": \"treatment\", \"182\": \"groups\", \"183\": \"problems\", \"184\": \"feel\", \"185\": \"need\", \"186\": \"emergency\", \"187\": \"i\\'m\", \"188\": \"side\", \"189\": \"effects\", \"190\": \"book\", \"191\": \"appointment\", \"192\": \"schedule\", \"193\": \"does\", \"194\": \"adults\", \"195\": \"children\", \"196\": \"labels\", \"197\": \"understanding\", \"198\": \"boosting\", \"199\": \"immune\", \"200\": \"system\", \"201\": \"immunity\", \"202\": \"strategies\", \"203\": \"devices\", \"204\": \"programs\", \"205\": \"donation\", \"206\": \"about\", \"207\": \"athletes\", \"208\": \"adolescents\", \"209\": \"diseases\", \"210\": \"precautions\", \"211\": \"dietary\", \"212\": \"positive\", \"213\": \"brain\", \"214\": \"emotional\", \"215\": \"gut\", \"216\": \"motivated\", \"217\": \"finding\", \"218\": \"joy\", \"219\": \"hello\", \"220\": \"hey\", \"221\": \"hi\", \"222\": \"greetings\", \"223\": \"it\", \"224\": \"going\", \"225\": \"cya\", \"226\": \"goodbye\", \"227\": \"bye\", \"228\": \"cao\", \"229\": \"ya\", \"230\": \"runny\", \"231\": \"stuffy\", \"232\": \"nose\", \"233\": \"cough\", \"234\": \"congestion\", \"235\": \"slight\", \"236\": \"mild\", \"237\": \"sneezing\", \"238\": \"grade\", \"239\": \"generally\", \"240\": \"feeling\", \"241\": \"unwell\", \"242\": \"malaise\", \"243\": \"sweating\", \"244\": \"chills\", \"245\": \"shivering\", \"246\": \"irritability\", \"247\": \"dehydration\", \"248\": \"general\", \"249\": \"weakness\", \"250\": \"thirst\", \"251\": \"frequent\", \"252\": \"urination\", \"253\": \"blurry\", \"254\": \"vision\", \"255\": \"extreme\", \"256\": \"hopeless\", \"257\": \"outlook\", \"258\": \"lost\", \"259\": \"interest\", \"260\": \"problem\", \"261\": \"change\", \"262\": \"looking\", \"263\": \"death\", \"264\": \"coughing\", \"265\": \"tightness\", \"266\": \"chest\", \"267\": \"shortness\", \"268\": \"breath\", \"269\": \"difficulty\", \"270\": \"talking\", \"271\": \"panic\", \"272\": \"flu\", \"273\": \"give\", \"274\": \"suggestions\", \"275\": \"consultations\", \"276\": \"set\", \"277\": \"meeting\", \"278\": \"flexibility\", \"279\": \"strength\", \"280\": \"training\", \"281\": \"cardio\", \"282\": \"workouts\", \"283\": \"calorie\", \"284\": \"recipes\", \"285\": \"vegan\", \"286\": \"gluten\", \"287\": \"free\", \"288\": \"ideal\", \"289\": \"duration\", \"290\": \"bedtime\", \"291\": \"routine\", \"292\": \"ailments\", \"293\": \"holistic\", \"294\": \"wellness\", \"295\": \"jet\", \"296\": \"lag\", \"297\": \"while\", \"298\": \"traveling\", \"299\": \"basic\", \"300\": \"first\", \"301\": \"aid\", \"302\": \"minor\", \"303\": \"burns\", \"304\": \"cuts\", \"305\": \"cpr\", \"306\": \"instructions\", \"307\": \"recognizing\", \"308\": \"stroke\", \"309\": \"attack\", \"310\": \"falls\", \"311\": \"safe\", \"312\": \"sex\", \"313\": \"std\", \"314\": \"handling\", \"315\": \"diy\", \"316\": \"face\", \"317\": \"masks\", \"318\": \"herbal\", \"319\": \"teas\", \"320\": \"relief\", \"321\": \"mechanisms\", \"322\": \"workplace\", \"323\": \"allergens\", \"324\": \"manage\", \"325\": \"allergy\", \"326\": \"testing\", \"327\": \"prenatal\", \"328\": \"during\", \"329\": \"labor\", \"330\": \"delivery\", \"331\": \"illnesses\", \"332\": \"parenting\", \"333\": \"services\", \"334\": \"chronic\", \"335\": \"fall\", \"336\": \"parents\", \"337\": \"hotlines\", \"338\": \"center\", \"339\": \"birth\", \"340\": \"control\", \"341\": \"sti\", \"342\": \"treatments\", \"343\": \"living\", \"344\": \"disease\", \"345\": \"dentist\", \"346\": \"symptom\", \"347\": \"do\", \"348\": \"urgent\", \"349\": \"assistance\", \"350\": \"ambulance\", \"351\": \"having\", \"352\": \"medical\", \"353\": \"used\", \"354\": \"dosage\", \"355\": \"take\", \"356\": \"another\", \"357\": \"doctor\\'s\", \"358\": \"availability\", \"359\": \"doctors\", \"360\": \"work\", \"361\": \"cover\", \"362\": \"find\", \"363\": \"plans\", \"364\": \"policy\", \"365\": \"details\", \"366\": \"anxious\", \"367\": \"stressed\", \"368\": \"out\", \"369\": \"someone\", \"370\": \"talk\", \"371\": \"often\", \"372\": \"vaccination\", \"373\": \"where\", \"374\": \"get\", \"375\": \"vaccinated\", \"376\": \"vaccine\", \"377\": \"information\", \"378\": \"vaccines\", \"379\": \"file\", \"380\": \"required\", \"381\": \"documents\", \"382\": \"status\", \"383\": \"read\", \"384\": \"interpreting\", \"385\": \"ingredient\", \"386\": \"lists\", \"387\": \"choices\", \"388\": \"disorders\", \"389\": \"apnea\", \"390\": \"improving\", \"391\": \"that\", \"392\": \"strengthen\", \"393\": \"enough\", \"394\": \"related\", \"395\": \"treating\", \"396\": \"strains\", \"397\": \"joint\", \"398\": \"pain\", \"399\": \"recovering\", \"400\": \"sports\", \"401\": \"mass\", \"402\": \"index\", \"403\": \"bmi\", \"404\": \"gain\", \"405\": \"causes\", \"406\": \"using\", \"407\": \"apps\", \"408\": \"wearable\", \"409\": \"virtual\", \"410\": \"visits\", \"411\": \"cramps\", \"412\": \"irregular\", \"413\": \"cycles\", \"414\": \"pms\", \"415\": \"become\", \"416\": \"donor\", \"417\": \"transplant\", \"418\": \"caregiver\", \"419\": \"respite\", \"420\": \"legal\", \"421\": \"financial\", \"422\": \"resources\", \"423\": \"fertility\", \"424\": \"awareness\", \"425\": \"contraception\", \"426\": \"reproductive\", \"427\": \"infertility\", \"428\": \"12\", \"429\": \"step\", \"430\": \"therapies\", \"431\": \"relapse\", \"432\": \"loved\", \"433\": \"ones\", \"434\": \"dementia\", \"435\": \"effective\", \"436\": \"communication\", \"437\": \"assistive\", \"438\": \"challenging\", \"439\": \"behaviors\", \"440\": \"patients\", \"441\": \"chemotherapy\", \"442\": \"pre\", \"443\": \"meals\", \"444\": \"hydration\", \"445\": \"teenage\", \"446\": \"teen\", \"447\": \"youth\", \"448\": \"immunization\", \"449\": \"schedules\", \"450\": \"spread\", \"451\": \"infectious\", \"452\": \"glasses\", \"453\": \"lenses\", \"454\": \"safety\", \"455\": \"acne\", \"456\": \"sun\", \"457\": \"protection\", \"458\": \"friendly\", \"459\": \"older\", \"460\": \"teens\", \"461\": \"image\", \"462\": \"encouraging\", \"463\": \"memory\", \"464\": \"improvement\", \"465\": \"decline\", \"466\": \"implants\", \"467\": \"oral\", \"468\": \"braces\", \"469\": \"wearers\", \"470\": \"tooth\", \"471\": \"sensitivity\", \"472\": \"toothpaste\", \"473\": \"diets\", \"474\": \"blood\", \"475\": \"pressure\", \"476\": \"after\", \"477\": \"therapist\", \"478\": \"vitamins\", \"479\": \"minerals\", \"480\": \"needs\", \"481\": \"supplement\", \"482\": \"interactions\", \"483\": \"medications\", \"484\": \"listening\", \"485\": \"cues\", \"486\": \"fullness\", \"487\": \"avoiding\", \"488\": \"probiotics\", \"489\": \"prebiotics\", \"490\": \"digestive\", \"491\": \"women\\'s\", \"492\": \"irregularities\", \"493\": \"postmenopausal\", \"494\": \"breast\", \"495\": \"exams\", \"496\": \"debunked\", \"497\": \"misconceptions\", \"498\": \"facts\", \"499\": \"truths\", \"500\": \"making\", \"501\": \"sustainable\", \"502\": \"lifestyle\", \"503\": \"changes\", \"504\": \"setting\", \"505\": \"realistic\", \"506\": \"goals\", \"507\": \"building\", \"508\": \"picky\", \"509\": \"eaters\", \"510\": \"school\", \"511\": \"lunch\", \"512\": \"obesity\", \"513\": \"connection\", \"514\": \"yoga\", \"515\": \"thinking\", \"516\": \"its\", \"517\": \"impact\", \"518\": \"on\", \"519\": \"well\", \"520\": \"being\", \"521\": \"overcoming\", \"522\": \"plateaus\", \"523\": \"activity\", \"524\": \"supportive\", \"525\": \"environment\", \"526\": \"introduction\", \"527\": \"breathing\", \"528\": \"scan\", \"529\": \"gracefully\", \"530\": \"agility\", \"531\": \"embracing\", \"532\": \"purpose\", \"533\": \"years\"}',\n",
       " 'word_index': '{\"for\": 1, \"i\": 2, \"with\": 3, \"health\": 4, \"a\": 5, \"of\": 6, \"healthy\": 7, \"how\": 8, \"what\": 9, \"can\": 10, \"and\": 11, \"to\": 12, \"from\": 13, \"me\": 14, \"in\": 15, \"the\": 16, \"common\": 17, \"prevention\": 18, \"tips\": 19, \"exercises\": 20, \"dealing\": 21, \"or\": 22, \"eating\": 23, \"managing\": 24, \"you\": 25, \"should\": 26, \"body\": 27, \"sleep\": 28, \"help\": 29, \"insurance\": 30, \"care\": 31, \"is\": 32, \"tell\": 33, \"weight\": 34, \"my\": 35, \"some\": 36, \"eat\": 37, \"getting\": 38, \"depression\": 39, \"diet\": 40, \"benefits\": 41, \"preventing\": 42, \"elderly\": 43, \"stress\": 44, \"symptoms\": 45, \"choosing\": 46, \"nutrition\": 47, \"exercise\": 48, \"old\": 49, \"fever\": 50, \"medicines\": 51, \"buy\": 52, \"method\": 53, \"drink\": 54, \"if\": 55, \"am\": 56, \"suffering\": 57, \"keep\": 58, \"diabetes\": 59, \"doctor\": 60, \"meditation\": 61, \"remedies\": 62, \"techniques\": 63, \"heart\": 64, \"options\": 65, \"physical\": 66, \"support\": 67, \"medication\": 68, \"are\": 69, \"your\": 70, \"age\": 71, \"loss\": 72, \"cold\": 73, \"asthma\": 74, \"consultation\": 75, \"ideas\": 76, \"aging\": 77, \"coping\": 78, \"substance\": 79, \"abuse\": 80, \"cancer\": 81, \"dental\": 82, \"condition\": 83, \"fitness\": 84, \"claim\": 85, \"foods\": 86, \"maintaining\": 87, \"menstrual\": 88, \"organ\": 89, \"right\": 90, \"mindful\": 91, \"what\\'s\": 92, \"have\": 93, \"name\": 94, \"increased\": 95, \"fatigue\": 96, \"routines\": 97, \"practicing\": 98, \"mindfulness\": 99, \"practices\": 100, \"travel\": 101, \"staying\": 102, \"cognitive\": 103, \"seniors\": 104, \"importance\": 105, \"regular\": 106, \"sexual\": 107, \"allergies\": 108, \"skin\": 109, \"relaxation\": 110, \"management\": 111, \"childhood\": 112, \"caring\": 113, \"therapy\": 114, \"mental\": 115, \"self\": 116, \"rehabilitation\": 117, \"recovery\": 118, \"screenings\": 119, \"addiction\": 120, \"hygiene\": 121, \"an\": 122, \"balanced\": 123, \"specific\": 124, \"process\": 125, \"food\": 126, \"injuries\": 127, \"myths\": 128, \"caregivers\": 129, \"workout\": 130, \"issues\": 131, \"habits\": 132, \"eye\": 133, \"supplements\": 134, \"good\": 135, \"day\": 136, \"up\": 137, \"see\": 138, \"later\": 139, \"call\": 140, \"who\": 141, \"sore\": 142, \"throat\": 143, \"aches\": 144, \"headache\": 145, \"low\": 146, \"muscle\": 147, \"appetite\": 148, \"hunger\": 149, \"anxiety\": 150, \"at\": 151, \"contact\": 152, \"there\": 153, \"any\": 154, \"available\": 155, \"best\": 156, \"improve\": 157, \"snacks\": 158, \"meal\": 159, \"quality\": 160, \"insomnia\": 161, \"creating\": 162, \"natural\": 163, \"vaccinations\": 164, \"advice\": 165, \"signs\": 166, \"arthritis\": 167, \"check\": 168, \"ups\": 169, \"concerns\": 170, \"home\": 171, \"mind\": 172, \"methods\": 173, \"pregnancy\": 174, \"kids\": 175, \"conditions\": 176, \"online\": 177, \"post\": 178, \"surgery\": 179, \"counseling\": 180, \"treatment\": 181, \"groups\": 182, \"problems\": 183, \"feel\": 184, \"need\": 185, \"emergency\": 186, \"i\\'m\": 187, \"side\": 188, \"effects\": 189, \"book\": 190, \"appointment\": 191, \"schedule\": 192, \"does\": 193, \"adults\": 194, \"children\": 195, \"labels\": 196, \"understanding\": 197, \"boosting\": 198, \"immune\": 199, \"system\": 200, \"immunity\": 201, \"strategies\": 202, \"devices\": 203, \"programs\": 204, \"donation\": 205, \"about\": 206, \"athletes\": 207, \"adolescents\": 208, \"diseases\": 209, \"precautions\": 210, \"dietary\": 211, \"positive\": 212, \"brain\": 213, \"emotional\": 214, \"gut\": 215, \"motivated\": 216, \"finding\": 217, \"joy\": 218, \"hello\": 219, \"hey\": 220, \"hi\": 221, \"greetings\": 222, \"it\": 223, \"going\": 224, \"cya\": 225, \"goodbye\": 226, \"bye\": 227, \"cao\": 228, \"ya\": 229, \"runny\": 230, \"stuffy\": 231, \"nose\": 232, \"cough\": 233, \"congestion\": 234, \"slight\": 235, \"mild\": 236, \"sneezing\": 237, \"grade\": 238, \"generally\": 239, \"feeling\": 240, \"unwell\": 241, \"malaise\": 242, \"sweating\": 243, \"chills\": 244, \"shivering\": 245, \"irritability\": 246, \"dehydration\": 247, \"general\": 248, \"weakness\": 249, \"thirst\": 250, \"frequent\": 251, \"urination\": 252, \"blurry\": 253, \"vision\": 254, \"extreme\": 255, \"hopeless\": 256, \"outlook\": 257, \"lost\": 258, \"interest\": 259, \"problem\": 260, \"change\": 261, \"looking\": 262, \"death\": 263, \"coughing\": 264, \"tightness\": 265, \"chest\": 266, \"shortness\": 267, \"breath\": 268, \"difficulty\": 269, \"talking\": 270, \"panic\": 271, \"flu\": 272, \"give\": 273, \"suggestions\": 274, \"consultations\": 275, \"set\": 276, \"meeting\": 277, \"flexibility\": 278, \"strength\": 279, \"training\": 280, \"cardio\": 281, \"workouts\": 282, \"calorie\": 283, \"recipes\": 284, \"vegan\": 285, \"gluten\": 286, \"free\": 287, \"ideal\": 288, \"duration\": 289, \"bedtime\": 290, \"routine\": 291, \"ailments\": 292, \"holistic\": 293, \"wellness\": 294, \"jet\": 295, \"lag\": 296, \"while\": 297, \"traveling\": 298, \"basic\": 299, \"first\": 300, \"aid\": 301, \"minor\": 302, \"burns\": 303, \"cuts\": 304, \"cpr\": 305, \"instructions\": 306, \"recognizing\": 307, \"stroke\": 308, \"attack\": 309, \"falls\": 310, \"safe\": 311, \"sex\": 312, \"std\": 313, \"handling\": 314, \"diy\": 315, \"face\": 316, \"masks\": 317, \"herbal\": 318, \"teas\": 319, \"relief\": 320, \"mechanisms\": 321, \"workplace\": 322, \"allergens\": 323, \"manage\": 324, \"allergy\": 325, \"testing\": 326, \"prenatal\": 327, \"during\": 328, \"labor\": 329, \"delivery\": 330, \"illnesses\": 331, \"parenting\": 332, \"services\": 333, \"chronic\": 334, \"fall\": 335, \"parents\": 336, \"hotlines\": 337, \"center\": 338, \"birth\": 339, \"control\": 340, \"sti\": 341, \"treatments\": 342, \"living\": 343, \"disease\": 344, \"dentist\": 345, \"symptom\": 346, \"do\": 347, \"urgent\": 348, \"assistance\": 349, \"ambulance\": 350, \"having\": 351, \"medical\": 352, \"used\": 353, \"dosage\": 354, \"take\": 355, \"another\": 356, \"doctor\\'s\": 357, \"availability\": 358, \"doctors\": 359, \"work\": 360, \"cover\": 361, \"find\": 362, \"plans\": 363, \"policy\": 364, \"details\": 365, \"anxious\": 366, \"stressed\": 367, \"out\": 368, \"someone\": 369, \"talk\": 370, \"often\": 371, \"vaccination\": 372, \"where\": 373, \"get\": 374, \"vaccinated\": 375, \"vaccine\": 376, \"information\": 377, \"vaccines\": 378, \"file\": 379, \"required\": 380, \"documents\": 381, \"status\": 382, \"read\": 383, \"interpreting\": 384, \"ingredient\": 385, \"lists\": 386, \"choices\": 387, \"disorders\": 388, \"apnea\": 389, \"improving\": 390, \"that\": 391, \"strengthen\": 392, \"enough\": 393, \"related\": 394, \"treating\": 395, \"strains\": 396, \"joint\": 397, \"pain\": 398, \"recovering\": 399, \"sports\": 400, \"mass\": 401, \"index\": 402, \"bmi\": 403, \"gain\": 404, \"causes\": 405, \"using\": 406, \"apps\": 407, \"wearable\": 408, \"virtual\": 409, \"visits\": 410, \"cramps\": 411, \"irregular\": 412, \"cycles\": 413, \"pms\": 414, \"become\": 415, \"donor\": 416, \"transplant\": 417, \"caregiver\": 418, \"respite\": 419, \"legal\": 420, \"financial\": 421, \"resources\": 422, \"fertility\": 423, \"awareness\": 424, \"contraception\": 425, \"reproductive\": 426, \"infertility\": 427, \"12\": 428, \"step\": 429, \"therapies\": 430, \"relapse\": 431, \"loved\": 432, \"ones\": 433, \"dementia\": 434, \"effective\": 435, \"communication\": 436, \"assistive\": 437, \"challenging\": 438, \"behaviors\": 439, \"patients\": 440, \"chemotherapy\": 441, \"pre\": 442, \"meals\": 443, \"hydration\": 444, \"teenage\": 445, \"teen\": 446, \"youth\": 447, \"immunization\": 448, \"schedules\": 449, \"spread\": 450, \"infectious\": 451, \"glasses\": 452, \"lenses\": 453, \"safety\": 454, \"acne\": 455, \"sun\": 456, \"protection\": 457, \"friendly\": 458, \"older\": 459, \"teens\": 460, \"image\": 461, \"encouraging\": 462, \"memory\": 463, \"improvement\": 464, \"decline\": 465, \"implants\": 466, \"oral\": 467, \"braces\": 468, \"wearers\": 469, \"tooth\": 470, \"sensitivity\": 471, \"toothpaste\": 472, \"diets\": 473, \"blood\": 474, \"pressure\": 475, \"after\": 476, \"therapist\": 477, \"vitamins\": 478, \"minerals\": 479, \"needs\": 480, \"supplement\": 481, \"interactions\": 482, \"medications\": 483, \"listening\": 484, \"cues\": 485, \"fullness\": 486, \"avoiding\": 487, \"probiotics\": 488, \"prebiotics\": 489, \"digestive\": 490, \"women\\'s\": 491, \"irregularities\": 492, \"postmenopausal\": 493, \"breast\": 494, \"exams\": 495, \"debunked\": 496, \"misconceptions\": 497, \"facts\": 498, \"truths\": 499, \"making\": 500, \"sustainable\": 501, \"lifestyle\": 502, \"changes\": 503, \"setting\": 504, \"realistic\": 505, \"goals\": 506, \"building\": 507, \"picky\": 508, \"eaters\": 509, \"school\": 510, \"lunch\": 511, \"obesity\": 512, \"connection\": 513, \"yoga\": 514, \"thinking\": 515, \"its\": 516, \"impact\": 517, \"on\": 518, \"well\": 519, \"being\": 520, \"overcoming\": 521, \"plateaus\": 522, \"activity\": 523, \"supportive\": 524, \"environment\": 525, \"introduction\": 526, \"breathing\": 527, \"scan\": 528, \"gracefully\": 529, \"agility\": 530, \"embracing\": 531, \"purpose\": 532, \"years\": 533}'}"
      ]
     },
     "execution_count": 16,
     "metadata": {},
     "output_type": "execute_result"
    }
   ],
   "source": [
    "from tensorflow.keras.preprocessing.text import Tokenizer\n",
    "tokenizer = Tokenizer(lower=True, split=' ')\n",
    "tokenizer.fit_on_texts(df['text'])\n",
    "tokenizer.get_config()"
   ]
  },
  {
   "cell_type": "code",
   "execution_count": 17,
   "id": "fda43be1-62fe-4868-8489-e4a84a052d6c",
   "metadata": {},
   "outputs": [
    {
     "name": "stdout",
     "output_type": "stream",
     "text": [
      "number of unique words =  533\n"
     ]
    }
   ],
   "source": [
    "vocab_size = len(tokenizer.word_index)\n",
    "print('number of unique words = ', vocab_size)"
   ]
  },
  {
   "cell_type": "code",
   "execution_count": 18,
   "id": "3290af52-f814-4e82-ab6e-cdc11480f6c9",
   "metadata": {},
   "outputs": [
    {
     "name": "stdout",
     "output_type": "stream",
     "text": [
      "X shape =  (348, 13)\n",
      "y shape =  (348,)\n",
      "num of classes =  80\n"
     ]
    }
   ],
   "source": [
    "from tensorflow.keras.preprocessing.sequence import pad_sequences\n",
    "from sklearn.preprocessing import LabelEncoder\n",
    "\n",
    "ptrn2seq = tokenizer.texts_to_sequences(df['text'])\n",
    "X = pad_sequences(ptrn2seq, padding='post')\n",
    "print('X shape = ', X.shape)\n",
    "\n",
    "lbl_enc = LabelEncoder()\n",
    "y = lbl_enc.fit_transform(df['intent'])\n",
    "print('y shape = ', y.shape)\n",
    "print('num of classes = ', len(np.unique(y)))"
   ]
  },
  {
   "cell_type": "code",
   "execution_count": 19,
   "id": "e6be72cc-3a5d-4fe9-a46f-21c76c7c2f55",
   "metadata": {},
   "outputs": [],
   "source": [
    "import tensorflow\n",
    "from tensorflow import keras\n",
    "from tensorflow.keras.models import Sequential\n",
    "from tensorflow.keras.layers import Input, Embedding, LSTM, LayerNormalization, Dense, Dropout\n",
    "from tensorflow.keras.utils import plot_model\n",
    "\n",
    "model = Sequential()\n",
    "# Initialize the Sequential model\n",
    "\n",
    "# Add Input layer\n",
    "model.add(Input(shape=(X.shape[1],)))\n",
    "\n",
    "# Add Embedding layer\n",
    "model.add(Embedding(input_dim=vocab_size + 1, output_dim=100, mask_zero=True))\n",
    "\n",
    "# Add LSTM and LayerNormalization layers\n",
    "model.add(LSTM(32, return_sequences=True))\n",
    "model.add(LayerNormalization())\n",
    "\n",
    "model.add(LSTM(32, return_sequences=True))\n",
    "model.add(LayerNormalization())\n",
    "\n",
    "model.add(LSTM(32))\n",
    "model.add(LayerNormalization())\n",
    "\n",
    "# Add Dense, LayerNormalization, and Dropout layers\n",
    "model.add(Dense(128, activation=\"relu\"))\n",
    "model.add(LayerNormalization())\n",
    "model.add(Dropout(0.2))\n",
    "\n",
    "model.add(Dense(128, activation=\"relu\"))\n",
    "model.add(LayerNormalization())\n",
    "model.add(Dropout(0.2))\n",
    "\n",
    "# Output layer with the number of unique labels in y\n",
    "model.add(Dense(len(np.unique(y)), activation=\"softmax\"))"
   ]
  },
  {
   "cell_type": "code",
   "execution_count": 20,
   "id": "62bed5f5-d2cd-472e-a55e-9b8deb7b7a1c",
   "metadata": {},
   "outputs": [
    {
     "data": {
      "text/html": [
       "<pre style=\"white-space:pre;overflow-x:auto;line-height:normal;font-family:Menlo,'DejaVu Sans Mono',consolas,'Courier New',monospace\"><span style=\"font-weight: bold\">Model: \"sequential\"</span>\n",
       "</pre>\n"
      ],
      "text/plain": [
       "\u001b[1mModel: \"sequential\"\u001b[0m\n"
      ]
     },
     "metadata": {},
     "output_type": "display_data"
    },
    {
     "data": {
      "text/html": [
       "<pre style=\"white-space:pre;overflow-x:auto;line-height:normal;font-family:Menlo,'DejaVu Sans Mono',consolas,'Courier New',monospace\">┏━━━━━━━━━━━━━━━━━━━━━━━━━━━━━━━━━┳━━━━━━━━━━━━━━━━━━━━━━━━┳━━━━━━━━━━━━━━━┓\n",
       "┃<span style=\"font-weight: bold\"> Layer (type)                    </span>┃<span style=\"font-weight: bold\"> Output Shape           </span>┃<span style=\"font-weight: bold\">       Param # </span>┃\n",
       "┡━━━━━━━━━━━━━━━━━━━━━━━━━━━━━━━━━╇━━━━━━━━━━━━━━━━━━━━━━━━╇━━━━━━━━━━━━━━━┩\n",
       "│ embedding (<span style=\"color: #0087ff; text-decoration-color: #0087ff\">Embedding</span>)           │ (<span style=\"color: #00d7ff; text-decoration-color: #00d7ff\">None</span>, <span style=\"color: #00af00; text-decoration-color: #00af00\">13</span>, <span style=\"color: #00af00; text-decoration-color: #00af00\">100</span>)        │        <span style=\"color: #00af00; text-decoration-color: #00af00\">53,400</span> │\n",
       "├─────────────────────────────────┼────────────────────────┼───────────────┤\n",
       "│ lstm (<span style=\"color: #0087ff; text-decoration-color: #0087ff\">LSTM</span>)                     │ (<span style=\"color: #00d7ff; text-decoration-color: #00d7ff\">None</span>, <span style=\"color: #00af00; text-decoration-color: #00af00\">13</span>, <span style=\"color: #00af00; text-decoration-color: #00af00\">32</span>)         │        <span style=\"color: #00af00; text-decoration-color: #00af00\">17,024</span> │\n",
       "├─────────────────────────────────┼────────────────────────┼───────────────┤\n",
       "│ layer_normalization             │ (<span style=\"color: #00d7ff; text-decoration-color: #00d7ff\">None</span>, <span style=\"color: #00af00; text-decoration-color: #00af00\">13</span>, <span style=\"color: #00af00; text-decoration-color: #00af00\">32</span>)         │            <span style=\"color: #00af00; text-decoration-color: #00af00\">64</span> │\n",
       "│ (<span style=\"color: #0087ff; text-decoration-color: #0087ff\">LayerNormalization</span>)            │                        │               │\n",
       "├─────────────────────────────────┼────────────────────────┼───────────────┤\n",
       "│ lstm_1 (<span style=\"color: #0087ff; text-decoration-color: #0087ff\">LSTM</span>)                   │ (<span style=\"color: #00d7ff; text-decoration-color: #00d7ff\">None</span>, <span style=\"color: #00af00; text-decoration-color: #00af00\">13</span>, <span style=\"color: #00af00; text-decoration-color: #00af00\">32</span>)         │         <span style=\"color: #00af00; text-decoration-color: #00af00\">8,320</span> │\n",
       "├─────────────────────────────────┼────────────────────────┼───────────────┤\n",
       "│ layer_normalization_1           │ (<span style=\"color: #00d7ff; text-decoration-color: #00d7ff\">None</span>, <span style=\"color: #00af00; text-decoration-color: #00af00\">13</span>, <span style=\"color: #00af00; text-decoration-color: #00af00\">32</span>)         │            <span style=\"color: #00af00; text-decoration-color: #00af00\">64</span> │\n",
       "│ (<span style=\"color: #0087ff; text-decoration-color: #0087ff\">LayerNormalization</span>)            │                        │               │\n",
       "├─────────────────────────────────┼────────────────────────┼───────────────┤\n",
       "│ lstm_2 (<span style=\"color: #0087ff; text-decoration-color: #0087ff\">LSTM</span>)                   │ (<span style=\"color: #00d7ff; text-decoration-color: #00d7ff\">None</span>, <span style=\"color: #00af00; text-decoration-color: #00af00\">32</span>)             │         <span style=\"color: #00af00; text-decoration-color: #00af00\">8,320</span> │\n",
       "├─────────────────────────────────┼────────────────────────┼───────────────┤\n",
       "│ layer_normalization_2           │ (<span style=\"color: #00d7ff; text-decoration-color: #00d7ff\">None</span>, <span style=\"color: #00af00; text-decoration-color: #00af00\">32</span>)             │            <span style=\"color: #00af00; text-decoration-color: #00af00\">64</span> │\n",
       "│ (<span style=\"color: #0087ff; text-decoration-color: #0087ff\">LayerNormalization</span>)            │                        │               │\n",
       "├─────────────────────────────────┼────────────────────────┼───────────────┤\n",
       "│ dense (<span style=\"color: #0087ff; text-decoration-color: #0087ff\">Dense</span>)                   │ (<span style=\"color: #00d7ff; text-decoration-color: #00d7ff\">None</span>, <span style=\"color: #00af00; text-decoration-color: #00af00\">128</span>)            │         <span style=\"color: #00af00; text-decoration-color: #00af00\">4,224</span> │\n",
       "├─────────────────────────────────┼────────────────────────┼───────────────┤\n",
       "│ layer_normalization_3           │ (<span style=\"color: #00d7ff; text-decoration-color: #00d7ff\">None</span>, <span style=\"color: #00af00; text-decoration-color: #00af00\">128</span>)            │           <span style=\"color: #00af00; text-decoration-color: #00af00\">256</span> │\n",
       "│ (<span style=\"color: #0087ff; text-decoration-color: #0087ff\">LayerNormalization</span>)            │                        │               │\n",
       "├─────────────────────────────────┼────────────────────────┼───────────────┤\n",
       "│ dropout (<span style=\"color: #0087ff; text-decoration-color: #0087ff\">Dropout</span>)               │ (<span style=\"color: #00d7ff; text-decoration-color: #00d7ff\">None</span>, <span style=\"color: #00af00; text-decoration-color: #00af00\">128</span>)            │             <span style=\"color: #00af00; text-decoration-color: #00af00\">0</span> │\n",
       "├─────────────────────────────────┼────────────────────────┼───────────────┤\n",
       "│ dense_1 (<span style=\"color: #0087ff; text-decoration-color: #0087ff\">Dense</span>)                 │ (<span style=\"color: #00d7ff; text-decoration-color: #00d7ff\">None</span>, <span style=\"color: #00af00; text-decoration-color: #00af00\">128</span>)            │        <span style=\"color: #00af00; text-decoration-color: #00af00\">16,512</span> │\n",
       "├─────────────────────────────────┼────────────────────────┼───────────────┤\n",
       "│ layer_normalization_4           │ (<span style=\"color: #00d7ff; text-decoration-color: #00d7ff\">None</span>, <span style=\"color: #00af00; text-decoration-color: #00af00\">128</span>)            │           <span style=\"color: #00af00; text-decoration-color: #00af00\">256</span> │\n",
       "│ (<span style=\"color: #0087ff; text-decoration-color: #0087ff\">LayerNormalization</span>)            │                        │               │\n",
       "├─────────────────────────────────┼────────────────────────┼───────────────┤\n",
       "│ dropout_1 (<span style=\"color: #0087ff; text-decoration-color: #0087ff\">Dropout</span>)             │ (<span style=\"color: #00d7ff; text-decoration-color: #00d7ff\">None</span>, <span style=\"color: #00af00; text-decoration-color: #00af00\">128</span>)            │             <span style=\"color: #00af00; text-decoration-color: #00af00\">0</span> │\n",
       "├─────────────────────────────────┼────────────────────────┼───────────────┤\n",
       "│ dense_2 (<span style=\"color: #0087ff; text-decoration-color: #0087ff\">Dense</span>)                 │ (<span style=\"color: #00d7ff; text-decoration-color: #00d7ff\">None</span>, <span style=\"color: #00af00; text-decoration-color: #00af00\">80</span>)             │        <span style=\"color: #00af00; text-decoration-color: #00af00\">10,320</span> │\n",
       "└─────────────────────────────────┴────────────────────────┴───────────────┘\n",
       "</pre>\n"
      ],
      "text/plain": [
       "┏━━━━━━━━━━━━━━━━━━━━━━━━━━━━━━━━━┳━━━━━━━━━━━━━━━━━━━━━━━━┳━━━━━━━━━━━━━━━┓\n",
       "┃\u001b[1m \u001b[0m\u001b[1mLayer (type)                   \u001b[0m\u001b[1m \u001b[0m┃\u001b[1m \u001b[0m\u001b[1mOutput Shape          \u001b[0m\u001b[1m \u001b[0m┃\u001b[1m \u001b[0m\u001b[1m      Param #\u001b[0m\u001b[1m \u001b[0m┃\n",
       "┡━━━━━━━━━━━━━━━━━━━━━━━━━━━━━━━━━╇━━━━━━━━━━━━━━━━━━━━━━━━╇━━━━━━━━━━━━━━━┩\n",
       "│ embedding (\u001b[38;5;33mEmbedding\u001b[0m)           │ (\u001b[38;5;45mNone\u001b[0m, \u001b[38;5;34m13\u001b[0m, \u001b[38;5;34m100\u001b[0m)        │        \u001b[38;5;34m53,400\u001b[0m │\n",
       "├─────────────────────────────────┼────────────────────────┼───────────────┤\n",
       "│ lstm (\u001b[38;5;33mLSTM\u001b[0m)                     │ (\u001b[38;5;45mNone\u001b[0m, \u001b[38;5;34m13\u001b[0m, \u001b[38;5;34m32\u001b[0m)         │        \u001b[38;5;34m17,024\u001b[0m │\n",
       "├─────────────────────────────────┼────────────────────────┼───────────────┤\n",
       "│ layer_normalization             │ (\u001b[38;5;45mNone\u001b[0m, \u001b[38;5;34m13\u001b[0m, \u001b[38;5;34m32\u001b[0m)         │            \u001b[38;5;34m64\u001b[0m │\n",
       "│ (\u001b[38;5;33mLayerNormalization\u001b[0m)            │                        │               │\n",
       "├─────────────────────────────────┼────────────────────────┼───────────────┤\n",
       "│ lstm_1 (\u001b[38;5;33mLSTM\u001b[0m)                   │ (\u001b[38;5;45mNone\u001b[0m, \u001b[38;5;34m13\u001b[0m, \u001b[38;5;34m32\u001b[0m)         │         \u001b[38;5;34m8,320\u001b[0m │\n",
       "├─────────────────────────────────┼────────────────────────┼───────────────┤\n",
       "│ layer_normalization_1           │ (\u001b[38;5;45mNone\u001b[0m, \u001b[38;5;34m13\u001b[0m, \u001b[38;5;34m32\u001b[0m)         │            \u001b[38;5;34m64\u001b[0m │\n",
       "│ (\u001b[38;5;33mLayerNormalization\u001b[0m)            │                        │               │\n",
       "├─────────────────────────────────┼────────────────────────┼───────────────┤\n",
       "│ lstm_2 (\u001b[38;5;33mLSTM\u001b[0m)                   │ (\u001b[38;5;45mNone\u001b[0m, \u001b[38;5;34m32\u001b[0m)             │         \u001b[38;5;34m8,320\u001b[0m │\n",
       "├─────────────────────────────────┼────────────────────────┼───────────────┤\n",
       "│ layer_normalization_2           │ (\u001b[38;5;45mNone\u001b[0m, \u001b[38;5;34m32\u001b[0m)             │            \u001b[38;5;34m64\u001b[0m │\n",
       "│ (\u001b[38;5;33mLayerNormalization\u001b[0m)            │                        │               │\n",
       "├─────────────────────────────────┼────────────────────────┼───────────────┤\n",
       "│ dense (\u001b[38;5;33mDense\u001b[0m)                   │ (\u001b[38;5;45mNone\u001b[0m, \u001b[38;5;34m128\u001b[0m)            │         \u001b[38;5;34m4,224\u001b[0m │\n",
       "├─────────────────────────────────┼────────────────────────┼───────────────┤\n",
       "│ layer_normalization_3           │ (\u001b[38;5;45mNone\u001b[0m, \u001b[38;5;34m128\u001b[0m)            │           \u001b[38;5;34m256\u001b[0m │\n",
       "│ (\u001b[38;5;33mLayerNormalization\u001b[0m)            │                        │               │\n",
       "├─────────────────────────────────┼────────────────────────┼───────────────┤\n",
       "│ dropout (\u001b[38;5;33mDropout\u001b[0m)               │ (\u001b[38;5;45mNone\u001b[0m, \u001b[38;5;34m128\u001b[0m)            │             \u001b[38;5;34m0\u001b[0m │\n",
       "├─────────────────────────────────┼────────────────────────┼───────────────┤\n",
       "│ dense_1 (\u001b[38;5;33mDense\u001b[0m)                 │ (\u001b[38;5;45mNone\u001b[0m, \u001b[38;5;34m128\u001b[0m)            │        \u001b[38;5;34m16,512\u001b[0m │\n",
       "├─────────────────────────────────┼────────────────────────┼───────────────┤\n",
       "│ layer_normalization_4           │ (\u001b[38;5;45mNone\u001b[0m, \u001b[38;5;34m128\u001b[0m)            │           \u001b[38;5;34m256\u001b[0m │\n",
       "│ (\u001b[38;5;33mLayerNormalization\u001b[0m)            │                        │               │\n",
       "├─────────────────────────────────┼────────────────────────┼───────────────┤\n",
       "│ dropout_1 (\u001b[38;5;33mDropout\u001b[0m)             │ (\u001b[38;5;45mNone\u001b[0m, \u001b[38;5;34m128\u001b[0m)            │             \u001b[38;5;34m0\u001b[0m │\n",
       "├─────────────────────────────────┼────────────────────────┼───────────────┤\n",
       "│ dense_2 (\u001b[38;5;33mDense\u001b[0m)                 │ (\u001b[38;5;45mNone\u001b[0m, \u001b[38;5;34m80\u001b[0m)             │        \u001b[38;5;34m10,320\u001b[0m │\n",
       "└─────────────────────────────────┴────────────────────────┴───────────────┘\n"
      ]
     },
     "metadata": {},
     "output_type": "display_data"
    },
    {
     "data": {
      "text/html": [
       "<pre style=\"white-space:pre;overflow-x:auto;line-height:normal;font-family:Menlo,'DejaVu Sans Mono',consolas,'Courier New',monospace\"><span style=\"font-weight: bold\"> Total params: </span><span style=\"color: #00af00; text-decoration-color: #00af00\">118,824</span> (464.16 KB)\n",
       "</pre>\n"
      ],
      "text/plain": [
       "\u001b[1m Total params: \u001b[0m\u001b[38;5;34m118,824\u001b[0m (464.16 KB)\n"
      ]
     },
     "metadata": {},
     "output_type": "display_data"
    },
    {
     "data": {
      "text/html": [
       "<pre style=\"white-space:pre;overflow-x:auto;line-height:normal;font-family:Menlo,'DejaVu Sans Mono',consolas,'Courier New',monospace\"><span style=\"font-weight: bold\"> Trainable params: </span><span style=\"color: #00af00; text-decoration-color: #00af00\">118,824</span> (464.16 KB)\n",
       "</pre>\n"
      ],
      "text/plain": [
       "\u001b[1m Trainable params: \u001b[0m\u001b[38;5;34m118,824\u001b[0m (464.16 KB)\n"
      ]
     },
     "metadata": {},
     "output_type": "display_data"
    },
    {
     "data": {
      "text/html": [
       "<pre style=\"white-space:pre;overflow-x:auto;line-height:normal;font-family:Menlo,'DejaVu Sans Mono',consolas,'Courier New',monospace\"><span style=\"font-weight: bold\"> Non-trainable params: </span><span style=\"color: #00af00; text-decoration-color: #00af00\">0</span> (0.00 B)\n",
       "</pre>\n"
      ],
      "text/plain": [
       "\u001b[1m Non-trainable params: \u001b[0m\u001b[38;5;34m0\u001b[0m (0.00 B)\n"
      ]
     },
     "metadata": {},
     "output_type": "display_data"
    }
   ],
   "source": [
    "model.summary()"
   ]
  },
  {
   "cell_type": "code",
   "execution_count": 21,
   "id": "cb62bb24-000d-4b93-bc5e-d22d411535c0",
   "metadata": {},
   "outputs": [],
   "source": [
    "model.compile(optimizer='adam', loss=\"sparse_categorical_crossentropy\", metrics=['accuracy'])"
   ]
  },
  {
   "cell_type": "code",
   "execution_count": 22,
   "id": "05feb8f8-2b4c-4817-b57a-ef9461d25742",
   "metadata": {},
   "outputs": [
    {
     "name": "stdout",
     "output_type": "stream",
     "text": [
      "Epoch 1/50\n",
      "\u001b[1m35/35\u001b[0m \u001b[32m━━━━━━━━━━━━━━━━━━━━\u001b[0m\u001b[37m\u001b[0m \u001b[1m9s\u001b[0m 13ms/step - accuracy: 0.0097 - loss: 5.1390\n",
      "Epoch 2/50\n",
      "\u001b[1m35/35\u001b[0m \u001b[32m━━━━━━━━━━━━━━━━━━━━\u001b[0m\u001b[37m\u001b[0m \u001b[1m0s\u001b[0m 12ms/step - accuracy: 0.1122 - loss: 3.9209\n",
      "Epoch 3/50\n",
      "\u001b[1m35/35\u001b[0m \u001b[32m━━━━━━━━━━━━━━━━━━━━\u001b[0m\u001b[37m\u001b[0m \u001b[1m0s\u001b[0m 12ms/step - accuracy: 0.2577 - loss: 3.1691\n",
      "Epoch 4/50\n",
      "\u001b[1m35/35\u001b[0m \u001b[32m━━━━━━━━━━━━━━━━━━━━\u001b[0m\u001b[37m\u001b[0m \u001b[1m0s\u001b[0m 13ms/step - accuracy: 0.3597 - loss: 2.7553\n",
      "Epoch 5/50\n",
      "\u001b[1m35/35\u001b[0m \u001b[32m━━━━━━━━━━━━━━━━━━━━\u001b[0m\u001b[37m\u001b[0m \u001b[1m0s\u001b[0m 13ms/step - accuracy: 0.4952 - loss: 2.2955\n",
      "Epoch 6/50\n",
      "\u001b[1m35/35\u001b[0m \u001b[32m━━━━━━━━━━━━━━━━━━━━\u001b[0m\u001b[37m\u001b[0m \u001b[1m0s\u001b[0m 12ms/step - accuracy: 0.5132 - loss: 1.9691\n",
      "Epoch 7/50\n",
      "\u001b[1m35/35\u001b[0m \u001b[32m━━━━━━━━━━━━━━━━━━━━\u001b[0m\u001b[37m\u001b[0m \u001b[1m0s\u001b[0m 13ms/step - accuracy: 0.6879 - loss: 1.5660\n",
      "Epoch 8/50\n",
      "\u001b[1m35/35\u001b[0m \u001b[32m━━━━━━━━━━━━━━━━━━━━\u001b[0m\u001b[37m\u001b[0m \u001b[1m0s\u001b[0m 13ms/step - accuracy: 0.6865 - loss: 1.3536\n",
      "Epoch 9/50\n",
      "\u001b[1m35/35\u001b[0m \u001b[32m━━━━━━━━━━━━━━━━━━━━\u001b[0m\u001b[37m\u001b[0m \u001b[1m0s\u001b[0m 12ms/step - accuracy: 0.7909 - loss: 1.1371\n",
      "Epoch 10/50\n",
      "\u001b[1m35/35\u001b[0m \u001b[32m━━━━━━━━━━━━━━━━━━━━\u001b[0m\u001b[37m\u001b[0m \u001b[1m0s\u001b[0m 11ms/step - accuracy: 0.8544 - loss: 0.8276\n",
      "Epoch 11/50\n",
      "\u001b[1m35/35\u001b[0m \u001b[32m━━━━━━━━━━━━━━━━━━━━\u001b[0m\u001b[37m\u001b[0m \u001b[1m0s\u001b[0m 11ms/step - accuracy: 0.8655 - loss: 0.7760\n",
      "Epoch 12/50\n",
      "\u001b[1m35/35\u001b[0m \u001b[32m━━━━━━━━━━━━━━━━━━━━\u001b[0m\u001b[37m\u001b[0m \u001b[1m0s\u001b[0m 11ms/step - accuracy: 0.9122 - loss: 0.5119\n",
      "Epoch 13/50\n",
      "\u001b[1m35/35\u001b[0m \u001b[32m━━━━━━━━━━━━━━━━━━━━\u001b[0m\u001b[37m\u001b[0m \u001b[1m0s\u001b[0m 11ms/step - accuracy: 0.9245 - loss: 0.5316\n",
      "Epoch 14/50\n",
      "\u001b[1m35/35\u001b[0m \u001b[32m━━━━━━━━━━━━━━━━━━━━\u001b[0m\u001b[37m\u001b[0m \u001b[1m0s\u001b[0m 11ms/step - accuracy: 0.9383 - loss: 0.4142\n",
      "Epoch 15/50\n",
      "\u001b[1m35/35\u001b[0m \u001b[32m━━━━━━━━━━━━━━━━━━━━\u001b[0m\u001b[37m\u001b[0m \u001b[1m0s\u001b[0m 12ms/step - accuracy: 0.9720 - loss: 0.3073\n",
      "Epoch 16/50\n",
      "\u001b[1m35/35\u001b[0m \u001b[32m━━━━━━━━━━━━━━━━━━━━\u001b[0m\u001b[37m\u001b[0m \u001b[1m0s\u001b[0m 11ms/step - accuracy: 0.9742 - loss: 0.3044\n",
      "Epoch 17/50\n",
      "\u001b[1m35/35\u001b[0m \u001b[32m━━━━━━━━━━━━━━━━━━━━\u001b[0m\u001b[37m\u001b[0m \u001b[1m0s\u001b[0m 11ms/step - accuracy: 0.9679 - loss: 0.2355\n",
      "Epoch 18/50\n",
      "\u001b[1m35/35\u001b[0m \u001b[32m━━━━━━━━━━━━━━━━━━━━\u001b[0m\u001b[37m\u001b[0m \u001b[1m0s\u001b[0m 11ms/step - accuracy: 0.9720 - loss: 0.2164\n",
      "Epoch 19/50\n",
      "\u001b[1m35/35\u001b[0m \u001b[32m━━━━━━━━━━━━━━━━━━━━\u001b[0m\u001b[37m\u001b[0m \u001b[1m0s\u001b[0m 11ms/step - accuracy: 0.9876 - loss: 0.2011\n",
      "Epoch 20/50\n",
      "\u001b[1m35/35\u001b[0m \u001b[32m━━━━━━━━━━━━━━━━━━━━\u001b[0m\u001b[37m\u001b[0m \u001b[1m0s\u001b[0m 11ms/step - accuracy: 0.9842 - loss: 0.1703\n",
      "Epoch 21/50\n",
      "\u001b[1m35/35\u001b[0m \u001b[32m━━━━━━━━━━━━━━━━━━━━\u001b[0m\u001b[37m\u001b[0m \u001b[1m0s\u001b[0m 11ms/step - accuracy: 0.9959 - loss: 0.1292\n",
      "Epoch 22/50\n",
      "\u001b[1m35/35\u001b[0m \u001b[32m━━━━━━━━━━━━━━━━━━━━\u001b[0m\u001b[37m\u001b[0m \u001b[1m0s\u001b[0m 11ms/step - accuracy: 0.9841 - loss: 0.1341\n",
      "Epoch 23/50\n",
      "\u001b[1m35/35\u001b[0m \u001b[32m━━━━━━━━━━━━━━━━━━━━\u001b[0m\u001b[37m\u001b[0m \u001b[1m0s\u001b[0m 11ms/step - accuracy: 0.9933 - loss: 0.0874\n",
      "Epoch 24/50\n",
      "\u001b[1m35/35\u001b[0m \u001b[32m━━━━━━━━━━━━━━━━━━━━\u001b[0m\u001b[37m\u001b[0m \u001b[1m0s\u001b[0m 11ms/step - accuracy: 0.9973 - loss: 0.0822\n"
     ]
    }
   ],
   "source": [
    "model_history = model.fit(x=X,\n",
    "                          y=y,\n",
    "                          batch_size=10,\n",
    "                          callbacks=[tensorflow.keras.callbacks.EarlyStopping(monitor='accuracy', patience=3)],\n",
    "                          epochs=50)"
   ]
  },
  {
   "cell_type": "code",
   "execution_count": 23,
   "id": "5e3133e5-0602-48a9-b41e-5faaa359abe9",
   "metadata": {},
   "outputs": [
    {
     "name": "stderr",
     "output_type": "stream",
     "text": [
      "WARNING:absl:You are saving your model as an HDF5 file via `model.save()` or `keras.saving.save_model(model)`. This file format is considered legacy. We recommend using instead the native Keras format, e.g. `model.save('my_model.keras')` or `keras.saving.save_model(model, 'my_model.keras')`. \n"
     ]
    }
   ],
   "source": [
    "import pickle\n",
    "\n",
    "# Save the model\n",
    "model.save('medical_healthcare_chatbot_model.h5')\n",
    "\n",
    "# Save the tokenizer\n",
    "with open('healthcare_tokenizer.pickle', 'wb') as handle:\n",
    "    pickle.dump(tokenizer, handle, protocol=pickle.HIGHEST_PROTOCOL)\n",
    "\n",
    "# Save the label encoder\n",
    "with open('healthcare_label_encoder.pickle', 'wb') as handle:\n",
    "    pickle.dump(lbl_enc, handle, protocol=pickle.HIGHEST_PROTOCOL)"
   ]
  },
  {
   "cell_type": "code",
   "execution_count": 32,
   "id": "d5fd2f72-ab71-4c31-ae76-0640552ee901",
   "metadata": {},
   "outputs": [],
   "source": [
    "with open('medical_tokenizer.json', 'w') as f:\n",
    "    json.dump(tokenizer.to_json(), f)\n",
    "with open('medical_label_encoder.json', 'w') as f:\n",
    "    json.dump(lbl_enc.classes_.tolist(), f)"
   ]
  },
  {
   "cell_type": "code",
   "execution_count": null,
   "id": "041fd630-6a25-4c55-90fc-8090a90fb943",
   "metadata": {},
   "outputs": [],
   "source": [
    "import re\n",
    "import random"
   ]
  },
  {
   "cell_type": "code",
   "execution_count": null,
   "id": "4b838515-d91b-4b30-bf3c-7e67fc7bdc14",
   "metadata": {},
   "outputs": [],
   "source": [
    "def generate_answer(pattern): \n",
    "    text = []\n",
    "    txt = re.sub('[^a-zA-Z\\']', ' ', pattern)\n",
    "    txt = txt.lower()\n",
    "    txt = txt.split()\n",
    "    txt = \" \".join(txt)\n",
    "    text.append(txt)\n",
    "        \n",
    "    x_test = tokenizer.texts_to_sequences(text)\n",
    "    x_test = np.array(x_test).squeeze()\n",
    "    x_test = pad_sequences([x_test], padding='post', maxlen=X.shape[1])\n",
    "    y_pred = model.predict(x_test)\n",
    "    y_pred = y_pred.argmax()\n",
    "    tag = lbl_enc.inverse_transform([y_pred])[0]\n",
    "    responses = df[df['intent'] == tag]['responses'].values[0]\n",
    "\n",
    "    print(\"you: {}\".format(pattern))\n",
    "    print(\"Chitti The Chatbot: {}\".format(random.choice(responses)))"
   ]
  },
  {
   "cell_type": "code",
   "execution_count": 31,
   "id": "f1a27090-e749-43ca-9cc2-4e780293fcec",
   "metadata": {},
   "outputs": [
    {
     "name": "stdout",
     "output_type": "stream",
     "text": [
      "\u001b[1m1/1\u001b[0m \u001b[32m━━━━━━━━━━━━━━━━━━━━\u001b[0m\u001b[37m\u001b[0m \u001b[1m0s\u001b[0m 27ms/step\n",
      "you: Slight body aches or a mild headache\n",
      "Chitti The Chatbot: It seems that you are suffering from common cold\n"
     ]
    }
   ],
   "source": [
    "generate_answer('Slight body aches or a mild headache')"
   ]
  },
  {
   "cell_type": "code",
   "execution_count": null,
   "id": "dd5b362a-4cf3-48d0-93f1-2eb99b93b3db",
   "metadata": {},
   "outputs": [],
   "source": []
  }
 ],
 "metadata": {
  "kernelspec": {
   "display_name": "Python 3 (ipykernel)",
   "language": "python",
   "name": "python3"
  },
  "language_info": {
   "codemirror_mode": {
    "name": "ipython",
    "version": 3
   },
   "file_extension": ".py",
   "mimetype": "text/x-python",
   "name": "python",
   "nbconvert_exporter": "python",
   "pygments_lexer": "ipython3",
   "version": "3.11.7"
  }
 },
 "nbformat": 4,
 "nbformat_minor": 5
}
